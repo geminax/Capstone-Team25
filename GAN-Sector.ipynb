{
  "nbformat": 4,
  "nbformat_minor": 0,
  "metadata": {
    "colab": {
      "name": "GAN.ipynb",
      "provenance": [],
      "collapsed_sections": []
    },
    "kernelspec": {
      "name": "python380jvsc74a57bd031e2364e1d696cab27f1c84da8c006b44abd7e4dbb1e594e2e73ff31da1a2a3d",
      "display_name": "Python 3.8.0 64-bit"
    },
    "language_info": {
      "name": "python",
      "version": "3.8.0-final"
    },
    "metadata": {
      "interpreter": {
        "hash": "31e2364e1d696cab27f1c84da8c006b44abd7e4dbb1e594e2e73ff31da1a2a3d"
      }
    }
  },
  "cells": [
    {
      "cell_type": "code",
      "metadata": {
        "id": "U-_SLXyZ6PuE"
      },
      "source": [
        "import numpy as np\n",
        "import pandas as pd\n",
        "import datetime as dt\n",
        "import time\n",
        "import os\n",
        "import pickle\n",
        "import plotly.express as px\n",
        "import tensorflow as tf\n",
        "from tensorflow import keras\n",
        "from tensorflow.keras.models import Sequential\n",
        "from tensorflow.keras import layers\n",
        "from tensorflow.keras.layers import *\n",
        "from keras.utils.vis_utils import plot_model\n",
        "from tensorflow.keras.optimizers import *\n",
        "import matplotlib.pyplot as plt\n",
        "import matplotlib.image as mpimg\n",
        "import matplotlib.gridspec as gridspec\n",
        "from sklearn.preprocessing import StandardScaler\n",
        "from sklearn.preprocessing import MinMaxScaler"
      ],
      "execution_count": 1,
      "outputs": []
    },
    {
      "source": [
        "---\n",
        "### Checking GPU Availability\n",
        "---"
      ],
      "cell_type": "markdown",
      "metadata": {}
    },
    {
      "cell_type": "code",
      "execution_count": null,
      "metadata": {},
      "outputs": [],
      "source": [
        "print(\"Num GPUs Available: \", len(tf.config.list_physical_devices('GPU')))"
      ]
    },
    {
      "cell_type": "code",
      "execution_count": null,
      "metadata": {},
      "outputs": [],
      "source": [
        "physical_devices = tf.config.list_physical_devices('GPU')\n",
        "tf.config.experimental.set_memory_growth(physical_devices[0], enable=True)"
      ]
    },
    {
      "source": [
        "---\n",
        "### Importing Data\n",
        "---"
      ],
      "cell_type": "markdown",
      "metadata": {}
    },
    {
      "cell_type": "code",
      "metadata": {
        "id": "XXj8gKfXdsqP"
      },
      "source": [
        "X = np.load('./storage/1yeardata/X.npy')\n",
        "data = pd.read_pickle('./storage/1yeardata/data.pickle')\n",
        "meta = pd.read_pickle('./storage/1yeardata/meta.pickle')"
      ],
      "execution_count": null,
      "outputs": []
    },
    {
      "cell_type": "code",
      "metadata": {
        "colab": {
          "base_uri": "https://localhost:8080/"
        },
        "id": "wcoJ5swDKHWC",
        "outputId": "e685bb1b-3150-44a5-f796-60787bd1fb1a"
      },
      "source": [
        "print(data.shape)\n",
        "print(meta.shape)\n",
        "print(X.shape)"
      ],
      "execution_count": null,
      "outputs": []
    },
    {
      "cell_type": "code",
      "execution_count": 2,
      "metadata": {},
      "outputs": [
        {
          "output_type": "error",
          "ename": "NameError",
          "evalue": "name 'meta' is not defined",
          "traceback": [
            "\u001b[1;31m---------------------------------------------------------------------------\u001b[0m",
            "\u001b[1;31mNameError\u001b[0m                                 Traceback (most recent call last)",
            "\u001b[1;32m<ipython-input-2-b461a320b480>\u001b[0m in \u001b[0;36m<module>\u001b[1;34m\u001b[0m\n\u001b[0;32m      1\u001b[0m \u001b[1;31m#lets get all gics sector names in a list (for later use)\u001b[0m\u001b[1;33m\u001b[0m\u001b[1;33m\u001b[0m\u001b[1;33m\u001b[0m\u001b[0m\n\u001b[0;32m      2\u001b[0m \u001b[0msector_tags\u001b[0m \u001b[1;33m=\u001b[0m \u001b[1;33m[\u001b[0m\u001b[1;33m]\u001b[0m\u001b[1;33m\u001b[0m\u001b[1;33m\u001b[0m\u001b[0m\n\u001b[1;32m----> 3\u001b[1;33m \u001b[1;32mfor\u001b[0m \u001b[0mj\u001b[0m \u001b[1;32min\u001b[0m \u001b[0mmeta\u001b[0m\u001b[1;33m[\u001b[0m\u001b[1;34m'GICS Sector'\u001b[0m\u001b[1;33m]\u001b[0m\u001b[1;33m:\u001b[0m\u001b[1;33m\u001b[0m\u001b[1;33m\u001b[0m\u001b[0m\n\u001b[0m\u001b[0;32m      4\u001b[0m     \u001b[1;32mif\u001b[0m \u001b[0mj\u001b[0m \u001b[1;32mnot\u001b[0m \u001b[1;32min\u001b[0m \u001b[0msector_tags\u001b[0m\u001b[1;33m:\u001b[0m\u001b[1;33m\u001b[0m\u001b[1;33m\u001b[0m\u001b[0m\n\u001b[0;32m      5\u001b[0m         \u001b[0msector_tags\u001b[0m\u001b[1;33m.\u001b[0m\u001b[0mappend\u001b[0m\u001b[1;33m(\u001b[0m\u001b[0mj\u001b[0m\u001b[1;33m)\u001b[0m\u001b[1;33m\u001b[0m\u001b[1;33m\u001b[0m\u001b[0m\n",
            "\u001b[1;31mNameError\u001b[0m: name 'meta' is not defined"
          ]
        }
      ],
      "source": [
        "#lets get all gics sector names in a list (for later use)\n",
        "sector_tags = []\n",
        "for j in meta['GICS Sector']:\n",
        "    if j not in sector_tags:\n",
        "        sector_tags.append(j)"
      ]
    },
    {
      "cell_type": "code",
      "execution_count": null,
      "metadata": {},
      "outputs": [],
      "source": [
        "sector_tags"
      ]
    },
    {
      "source": [
        "---\n",
        "### Setting GICS Sector\n",
        "---"
      ],
      "cell_type": "markdown",
      "metadata": {}
    },
    {
      "cell_type": "code",
      "execution_count": null,
      "metadata": {
        "tags": []
      },
      "outputs": [],
      "source": [
        "#getting all the tickers in a specific sector, subind likely wont be used until post-analysis\n",
        "#this begs the question, why sector training? Because it necessitates \"batch\" coding\n",
        "sector_ticks = []\n",
        "gics_sector = 'Energy'\n",
        "for j in meta.values:\n",
        "    if j[1] == gics_sector:\n",
        "        sector_ticks.append(j[0])"
      ]
    },
    {
      "cell_type": "code",
      "execution_count": null,
      "metadata": {},
      "outputs": [],
      "source": [
        "#visualizing sector stocks\n",
        "for j in sector_ticks:\n",
        "    print(meta[meta.Ticker == j])"
      ]
    },
    {
      "cell_type": "code",
      "execution_count": null,
      "metadata": {},
      "outputs": [],
      "source": [
        "#Variables that need to be defined\n",
        "\n",
        "window_len = 5 #daily rows; val of 5 looks back on 5 days worth of trading data\n",
        "n_features = X.shape[2] #for later on / = 14\n",
        "num_times_train = X.shape[1] - 7*5 #how many time rows used for training **NOT ROLLING WINDOW BATCH NUMBER** that's less than this number by 'window_len'\n",
        "#this above number needed for scaling processes mostly"
      ]
    },
    {
      "cell_type": "code",
      "execution_count": null,
      "metadata": {},
      "outputs": [],
      "source": [
        "print(len(sector_ticks))\n",
        "for j in sector_ticks:\n",
        "    plt.plot(data[j]['Close'])\n",
        "    plt.title(gics_sector +' Sector Close')\n",
        "    plt.grid('on')\n",
        "    plt.xlim(data.index[0],data.index[-1])"
      ]
    },
    {
      "source": [
        "---\n",
        "### Preprocessing\n",
        "---"
      ],
      "cell_type": "markdown",
      "metadata": {}
    },
    {
      "cell_type": "code",
      "metadata": {
        "id": "pnubVyaWN59l"
      },
      "source": [
        "#X numpy structure:\n",
        "#X[Ticker # corresponded with meta index (499 of these)][datetime index # (X of these)][OHLC/Tis]\n",
        "X = X.astype('float32')\n",
        "\n",
        "#need to make a for loop that scales every ticker in sector_ticks and puts it into a dict with each ticker corresponding to arr of dimension (num_times_train, n_features)\n",
        "X_scaled = {}\n",
        "x_forecasteval = {}\n",
        "#where do i store scalers? in a dictionary!\n",
        "scalers = {}\n",
        "\n",
        "for j in sector_ticks:\n",
        "    index = meta.loc[meta['Ticker'] == j].index[0]\n",
        "    X_sectick = X[index]\n",
        "\n",
        "    #x_realpredicted is just for forecast evaluation purposes/those 5 days ahead that we are comparing our forecasts on, kind of like test data but not really\n",
        "    x_forecasteval[j] = X_sectick[-7*5:,0]\n",
        "\n",
        "    X_sectick = X_sectick[:-35]\n",
        "\n",
        "    scalers[j] = StandardScaler()\n",
        "    scalers[j] = scalers[j].fit(X_sectick)\n",
        "    X_sectick_scaled = scalers[j].transform(X_sectick)\n",
        "    #for when we have to invert predictions\n",
        "    #X_AAPL_inverted = scaler.inverse_transform(X_AAPL_scaled)\n",
        "\n",
        "    X_scaled[j] = X_sectick_scaled\n"
      ],
      "execution_count": null,
      "outputs": []
    },
    {
      "cell_type": "code",
      "metadata": {
        "id": "ESoOb2kH8NSq"
      },
      "source": [
        "#now let's prepare our rolling windows, for an entire sector.. we work with another dict with 3 dimensional arrays in each ticker\n",
        "x_train = {}\n",
        "rollin_samps = num_times_train-window_len+1\n",
        "for j in X_scaled.keys():\n",
        "  x_train[j] = np.zeros((rollin_samps,window_len,n_features))\n",
        "  for i in range(rollin_samps):\n",
        "    x_train[j][i] = X_scaled[j][i:i+window_len,:]"
      ],
      "execution_count": null,
      "outputs": []
    },
    {
      "cell_type": "code",
      "execution_count": null,
      "metadata": {},
      "outputs": [],
      "source": [
        "#lets save our last datum in each ticker into own dict to save for forecast data later on\n",
        "x_forecastdata = {}\n",
        "for j in sector_ticks:\n",
        "    x_forecastdata[j] = x_train[j][-1]"
      ]
    },
    {
      "source": [
        "---\n",
        "### Network Functions\n",
        "---"
      ],
      "cell_type": "markdown",
      "metadata": {}
    },
    {
      "cell_type": "code",
      "metadata": {
        "id": "Kr_GYXeM945_"
      },
      "source": [
        "def discriminator(in_shape,lr):\n",
        "  inputs = Input(shape=(in_shape))\n",
        "  d1 = Dense(64)(inputs)\n",
        "  LR1 = LeakyReLU()(d1)\n",
        "  d2 = Dense(16)(LR1)\n",
        "  LR2 = LeakyReLU()(d2)\n",
        "  outputs = Dense(1,activation='sigmoid')(LR2)\n",
        "  model_D = keras.Model(inputs=inputs, outputs=outputs, name='discriminator')\n",
        "\n",
        "  opt=Adam(lr=lr)\n",
        "  model_D.compile(loss='binary_crossentropy',optimizer=opt)\n",
        "  return model_D"
      ],
      "execution_count": null,
      "outputs": []
    },
    {
      "cell_type": "code",
      "metadata": {
        "id": "yWgrv9IBGQIt"
      },
      "source": [
        "def generator(in_shape,out_dim,neurons_lstm):\n",
        "  inputs = Input(in_shape,name='window_input')\n",
        "  LSTM1 = LSTM(neurons_lstm,input_shape=in_shape,return_sequences=False)(inputs)\n",
        "  DO1 = Dropout(0.5)(LSTM1)\n",
        "  #LSTM2 = LSTM(neurons_lstm,input_shape=in_shape,return_sequences=False)(DO1)\n",
        "  #DO2 = Dropout(0.5)(LSTM2)\n",
        "  D1 = Dense(out_dim)(DO1)\n",
        "  LR = LeakyReLU()(D1)\n",
        "  outputs = Reshape((1,out_dim))(LR)\n",
        "  model_G = keras.Model(inputs=inputs,outputs=outputs,name='generator')\n",
        "\n",
        "  return model_G"
      ],
      "execution_count": null,
      "outputs": []
    },
    {
      "cell_type": "code",
      "metadata": {
        "id": "I9Hnt_bZqBJl"
      },
      "source": [
        "def gan_model(model_D, model_G,gen_input_shape, lr, lossweights):\n",
        "  model_D.trainable = False\n",
        "  ins = Input((gen_input_shape))\n",
        "  predicted = model_G(ins)\n",
        "  #concat with ins\n",
        "  predicted_concat = concatenate([ins,predicted],axis=1)\n",
        "  #print(predicted_concat.shape)\n",
        "  outs = model_D(predicted_concat)\n",
        "  model_GAN = keras.Model(inputs=ins,outputs=outs,name='GAN')\n",
        "\n",
        "  opt = Adam(lr=lr)\n",
        "  model_GAN.compile(loss=['binary_crossentropy','mean_squared_error'],loss_weights=lossweights ,optimizer=opt)\n",
        "  return model_GAN"
      ],
      "execution_count": null,
      "outputs": []
    },
    {
      "source": [
        "---\n",
        "### Training Functions\n",
        "---"
      ],
      "cell_type": "markdown",
      "metadata": {}
    },
    {
      "cell_type": "code",
      "metadata": {
        "id": "zVy-PMmUXfIx"
      },
      "source": [
        "#not used in LSTM-GAN\n",
        "def noise_vector(latent_dim, batch_size):\n",
        "  noise = np.random.randn(latent_dim * batch_size)\n",
        "  noise = np.reshape(noise, (batch_size,1, latent_dim))\n",
        "  return noise"
      ],
      "execution_count": null,
      "outputs": []
    },
    {
      "cell_type": "code",
      "metadata": {
        "id": "ZzvurJLahmUC"
      },
      "source": [
        "def generated_sample(window_data, model):\n",
        "  #latent_space = noise_vector(latent_dim, batch_size)\n",
        "  window_data = window_data[np.newaxis,:,:]\n",
        "  x_predicted = model.predict(window_data)\n",
        "  x_fake = np.concatenate((window_data,x_predicted),axis=1)\n",
        "  y_fake = np.zeros((1,1))\n",
        "  return x_fake, y_fake"
      ],
      "execution_count": null,
      "outputs": []
    },
    {
      "cell_type": "code",
      "metadata": {
        "id": "McUgaNxnXlsr"
      },
      "source": [
        "def real_sample(window_data, lookahead_data):\n",
        "  lookahead_data = lookahead_data[-1,:]\n",
        "  lookahead_data = lookahead_data[np.newaxis,:]\n",
        "  x_real = np.concatenate((window_data,lookahead_data),axis=0)\n",
        "  x_real = x_real[np.newaxis,:,:]\n",
        "  y_real = np.ones((1,1))\n",
        "  return x_real, y_real"
      ],
      "execution_count": null,
      "outputs": []
    },
    {
      "cell_type": "code",
      "metadata": {
        "id": "IMiNeFilbKZH"
      },
      "source": [
        "def train(model_D,model_G,model_GAN, dataset,ticker, epochs=1):\n",
        "  global generator_loss, discriminator_loss\n",
        "  generator_loss[ticker] = []\n",
        "  discriminator_loss[ticker] = []\n",
        "  for j in range(epochs):\n",
        "    for i in range(dataset.shape[0]-1): \n",
        "      #start with discriminator training:\n",
        "      X_real, y_real = real_sample(dataset[i],dataset[i+1])\n",
        "      X_fake, y_fake = generated_sample(dataset[i],model_G) \n",
        "      X, y = np.vstack((X_real,X_fake)), np.vstack((y_real,y_fake))\n",
        "      \n",
        "      disc_loss = model_D.train_on_batch(X,y)\n",
        "      \n",
        "      #adversarial training\n",
        "      X_GAN = dataset[i]\n",
        "      X_GAN = X_GAN[np.newaxis,:,:]\n",
        "      y_GAN = np.ones((1,1))\n",
        "      \n",
        "      GAN_loss = model_GAN.train_on_batch(X_GAN,y_GAN)\n",
        "      \n",
        "      generator_loss[ticker].append(GAN_loss)\n",
        "      discriminator_loss[ticker].append(disc_loss)\n",
        "\n",
        "      #if (i % 100) == 0:\n",
        "        #print('>%d:%d, disc_loss=%.4f, GAN_loss=%.4f' % (j+1,i,disc_loss,GAN_loss))\n",
        "      \n",
        "    #print('>%d,  disc_loss=%.4f , GAN_loss=%.4f' % (j+1,disc_loss,GAN_loss))"
      ],
      "execution_count": null,
      "outputs": []
    },
    {
      "cell_type": "markdown",
      "metadata": {
        "id": "3riJmVDzxAS2"
      },
      "source": [
        "---\n",
        "### Training\n",
        "---"
      ]
    },
    {
      "cell_type": "code",
      "metadata": {
        "colab": {
          "base_uri": "https://localhost:8080/",
          "height": 1000
        },
        "id": "LzjJBYr3qgvd",
        "outputId": "ae4d1a77-7687-43bf-b60a-1195105b77a5",
        "tags": []
      },
      "source": [
        "disc_input_shape = (6,n_features)\n",
        "gen_input_shape = (window_len,n_features)\n",
        "loss_weights = [0.5,0.5]\n",
        "gan_learning_rate = 1e-3\n",
        "disc_learning_rate = 1e-3\n",
        "lstm_neurons = 16\n",
        "\n",
        "epochs=5\n",
        "\n",
        "generator_loss = {}\n",
        "discriminator_loss = {}\n",
        "\n",
        "disc_models = {}\n",
        "gen_models = {}\n",
        "GAN_models = {}\n",
        "\n",
        "now = dt.datetime.now()\n",
        "now = now.strftime('%Y-%m-%d_%H-%M-%S')\n",
        "i=1\n",
        "print('>>Starting ' + gics_sector + ' Training . . .')\n",
        "#wall time for entire sector\n",
        "start = time.time()\n",
        "for j in x_train.keys():\n",
        "    disc_models[j] = discriminator(disc_input_shape,disc_learning_rate)\n",
        "    gen_models[j] = generator(gen_input_shape,n_features,lstm_neurons)\n",
        "    GAN_models[j] = gan_model(disc_models[j],gen_models[j],gen_input_shape,gan_learning_rate,loss_weights)\n",
        "    \n",
        "    train(disc_models[j], gen_models[j], GAN_models[j], dataset=x_train[j] , ticker=j , epochs=epochs)\n",
        "    print('>>%d ticker(s) completed' % (i))\n",
        "    i += 1\n",
        "    \n",
        "end = str(dt.timedelta(seconds=(round(time.time() - start))))\n",
        "#playsound('narration.mp3')"
      ],
      "execution_count": null,
      "outputs": []
    },
    {
      "source": [
        "---\n",
        "### Visualizations\n",
        "---"
      ],
      "cell_type": "markdown",
      "metadata": {}
    },
    {
      "cell_type": "code",
      "execution_count": null,
      "metadata": {},
      "outputs": [],
      "source": [
        "#take first key in x_train as part of example visualizations\n",
        "key = list(x_train.keys())[0]"
      ]
    },
    {
      "cell_type": "code",
      "execution_count": null,
      "metadata": {},
      "outputs": [],
      "source": [
        "#any one of models work for this part since its just architecture showcase\n",
        "plot_model(GAN_models[key],show_shapes=True,show_layer_names=True,to_file='storage/architectures/ganarchs/gan_arch_%s.png' % (now))\n",
        "plot_model(disc_models[key],show_shapes=True,show_layer_names=True,to_file='storage/architectures/discarchs/disc_arch_%s.png' % (now))\n",
        "plot_model(gen_models[key],show_shapes=True,show_layer_names=True,to_file='storage/architectures/genarchs/gen_arch_%s.png' % (now))\n",
        "img_disc = mpimg.imread('storage/architectures/discarchs/disc_arch_%s.png' % (now))\n",
        "img_gen = mpimg.imread('storage/architectures/genarchs/gen_arch_%s.png' % (now))\n",
        "img_gan = mpimg.imread('storage/architectures/ganarchs/gan_arch_%s.png' % (now))"
      ]
    },
    {
      "cell_type": "code",
      "execution_count": null,
      "metadata": {},
      "outputs": [],
      "source": [
        "#example visualization of aapl TIs\n",
        "vszn_data = data['AAPL']\n",
        "fig = plt.figure(figsize=(30,5))\n",
        "ax1 = fig.add_subplot(131)\n",
        "params = {\"ytick.color\" : \"w\",\n",
        "          \"xtick.color\" : \"w\",\n",
        "          \"axes.labelcolor\" : \"w\",\n",
        "          \"axes.edgecolor\" : (1,1,1,0),\n",
        "          'text.color' : 'w',\n",
        "          'legend.facecolor': (1,1,1,0),\n",
        "          'legend.edgecolor': '0',\n",
        "          'legend.framealpha': '0',\n",
        "          'legend.shadow' : True,\n",
        "          'axes.facecolor' : (1,1,1,0),\n",
        "          'grid.alpha': '.25',\n",
        "          'grid.color': '#b0b0b0',}\n",
        "plt.rcParams.update(params)\n",
        "fig.suptitle('AAPL Tech. Indicators',fontsize='xx-large',y=.98)\n",
        "plt.plot(vszn_data['Close'])\n",
        "plt.plot(vszn_data['H_BAND'])\n",
        "plt.plot(vszn_data['L_BAND'])\n",
        "plt.plot(vszn_data['SMA25'])\n",
        "plt.plot(vszn_data['SMA50'])\n",
        "plt.plot(vszn_data['SMA100'])\n",
        "plt.plot(vszn_data['EMA25'])\n",
        "plt.plot(vszn_data['EMA50'])\n",
        "plt.plot(vszn_data['EMA100'])\n",
        "plt.legend(['close','hband','lband','sma25','sma50','sma100','ema25','ema50','ema100'])\n",
        "plt.grid('on')\n",
        "plt.xlabel('Date')\n",
        "plt.ylabel('Value (USD)')\n",
        "plt.xlim(vszn_data['Close'].index[0],vszn_data['Close'].index[-1])\n",
        "ax2 = fig.add_subplot(132)\n",
        "plt.plot(vszn_data['MACD'])\n",
        "plt.xlabel('Date')\n",
        "plt.grid('on')\n",
        "plt.xlim(vszn_data['Close'].index[0],vszn_data['Close'].index[-1])\n",
        "plt.legend(['macdline'])\n",
        "ax3 = fig.add_subplot(133)\n",
        "plt.plot(vszn_data['RSI'])\n",
        "plt.ylabel('Percent (%)')\n",
        "plt.xlabel('Date')\n",
        "plt.legend(['rsi'])\n",
        "plt.grid('on')\n",
        "plt.xlim(vszn_data['Close'].index[0],vszn_data['Close'].index[-1])\n",
        "fname = 'storage/ti/ti.png'\n",
        "plt.savefig(fname,bbox_inches = 'tight')"
      ]
    },
    {
      "cell_type": "code",
      "execution_count": null,
      "metadata": {},
      "outputs": [],
      "source": [
        "text = 'Features Included: %d\\n\\nEpochs: %d\\nLSTM Neurons: %d\\nDiscriminator LR: %.4f\\nGAN LR: %.4f\\nGAN Loss Weights (BCE,MSE): [%.1f,%.1f]\\n\\nTraining Wall Time: %s' % (n_features,epochs,lstm_neurons,disc_learning_rate,gan_learning_rate,loss_weights[0],loss_weights[1],end)\n",
        "\n",
        "gs = gridspec.GridSpec(3,6)\n",
        "gs.update(wspace=0.45,hspace=.25)\n",
        "plt.figure(figsize=(10,15))\n",
        "ax1 = plt.subplot(gs[0,:2],)\n",
        "plt.title('Generator Architecture')\n",
        "plt.imshow(img_gen)\n",
        "plt.axis('off')\n",
        "ax2 = plt.subplot(gs[0,2:4],)\n",
        "plt.title('Discriminator Architecture')\n",
        "plt.imshow(img_disc)\n",
        "plt.axis('off')\n",
        "ax7 = plt.subplot(gs[0,4:],)\n",
        "plt.title('GAN Architecture')\n",
        "plt.imshow(img_gan)\n",
        "plt.axis('off')\n",
        "ax3 = plt.subplot(gs[2,:4],)\n",
        "plt.title('Training Set Predictions: ' + key +' Close 2020-2021')\n",
        "plt.plot(real_close)\n",
        "plt.plot(predictions_close)\n",
        "plt.legend(['Close','Predictions'])\n",
        "plt.xlabel('Trading Hours')\n",
        "ax4 = plt.subplot(gs[2,4:],)\n",
        "plt.axis('off')\n",
        "plt.text(0.0,0.35,s=text)\n",
        "ax5 = plt.subplot(gs[1,:3],)\n",
        "plt.plot(generator_loss[key])\n",
        "plt.xlabel('Inputs')\n",
        "plt.title('Generator Loss')\n",
        "ax6 = plt.subplot(gs[1,3:],)\n",
        "plt.plot(discriminator_loss[key])\n",
        "plt.xlabel('Inputs')\n",
        "plt.title('Discriminator Loss')\n",
        "fname = 'storage/combined_summaries/Summary_%s_.png' % (now)\n",
        "plt.savefig(fname,facecolor='white',bbox_inches = 'tight')"
      ]
    },
    {
      "source": [
        "---\n",
        "### Directory Creations\n",
        "---"
      ],
      "cell_type": "markdown",
      "metadata": {}
    },
    {
      "cell_type": "code",
      "execution_count": null,
      "metadata": {},
      "outputs": [],
      "source": [
        "#because of below issue, need to do a one-time directory creation loop for IT sector, something like /storage/models/sectors/IT/(all tickers)/(disc/gen/gan)/final location\n",
        "#do this one at a time, so first, create all the folders in /sectors/ then do all the tickers in /Information Technology/ then (disc/gen/gan) in each ticker\n",
        "#using os.mkdir\n",
        "\n",
        "'''\n",
        "for j in sector_tags:\n",
        "    path = os.path.join('./storage/trenddata',j)\n",
        "    os.mkdir(path=path)\n",
        "\n",
        "'''\n",
        "#now create all tick dirs in /sectors/gics_sector using sector_ticks\n",
        "\n",
        "for j in sector_ticks:\n",
        "    path = './storage/models/sectors/'+ gics_sector + '/' + j\n",
        "    os.mkdir(path=path)\n",
        "\n",
        "#now create disc/gen/gan dirs in each ticker\n",
        "\n",
        "for j in sector_ticks:\n",
        "    pathdisc = './storage/models/sectors/' + gics_sector + '/' + j + '/disc'\n",
        "    pathgen = './storage/models/sectors/' + gics_sector + '/' + j + '/gen'\n",
        "    pathgan = './storage/models/sectors/' + gics_sector + '/' + j + '/gan'\n",
        "    os.mkdir(pathdisc)\n",
        "    os.mkdir(pathgen)\n",
        "    os.mkdir(pathgan)\n"
      ]
    },
    {
      "cell_type": "markdown",
      "metadata": {
        "id": "-PNgDdBTw9PU"
      },
      "source": [
        "---\n",
        "### Saving\n",
        "---"
      ]
    },
    {
      "cell_type": "code",
      "execution_count": null,
      "metadata": {},
      "outputs": [],
      "source": [
        "#saving forecastevals\n",
        "pickle_out = open('./storage/sector_resources/' + gics_sector + '/forecasteval.pickle','wb')\n",
        "pickle.dump(x_forecasteval,pickle_out)\n",
        "pickle_out.close()\n",
        "\n",
        "#saving forecastdata\n",
        "pickle_out = open('./storage/sector_resources/' + gics_sector + '/forecastdata.pickle','wb')\n",
        "pickle.dump(x_forecastdata,pickle_out)\n",
        "pickle_out.close()\n",
        "\n",
        "#saving scalers\n",
        "pickle_out = open('./storage/sector_resources/' + gics_sector + '/scaler.pickle','wb')\n",
        "pickle.dump(scalers,pickle_out)\n",
        "pickle_out.close()\n",
        "\n",
        "print('Sector Resources of ' + gics_sector + ' completed.')"
      ]
    },
    {
      "cell_type": "code",
      "metadata": {
        "colab": {
          "base_uri": "https://localhost:8080/"
        },
        "id": "UC_3JIS4l9WS",
        "outputId": "5fc3bb83-4c63-417f-b4e5-f9c3db9ea177"
      },
      "source": [
        "#savings models\n",
        "for j in sector_ticks:\n",
        "    disc_models[j].save('storage/models/sectors/' + gics_sector + '/' + j + '/disc/model_discriminator_%s' % (now),save_format=\"h5\")\n",
        "    gen_models[j].save('storage/models/sectors/' + gics_sector + '/' + j + '/gen/model_generator_%s' % (now),save_format=\"h5\")\n",
        "    GAN_models[j].save('storage/models/sectors/' + gics_sector + '/' + j + '/gan/model_GAN_%s' % (now),save_format=\"h5\")"
      ],
      "execution_count": null,
      "outputs": []
    },
    {
      "source": [
        "---\n",
        "### Loading\n",
        "---"
      ],
      "cell_type": "markdown",
      "metadata": {}
    },
    {
      "cell_type": "code",
      "execution_count": null,
      "metadata": {},
      "outputs": [],
      "source": [
        "sector_tags"
      ]
    },
    {
      "cell_type": "code",
      "execution_count": null,
      "metadata": {},
      "outputs": [],
      "source": [
        "#getting all the tickers in a specific sector, subind likely wont be used until post-analysis\n",
        "#this begs the question, why sector training? Because it necessitates \"batch\" coding\n",
        "sector_ticks = []\n",
        "gics_sector = 'Energy'\n",
        "for j in meta.values:\n",
        "    if j[1] == gics_sector:\n",
        "        sector_ticks.append(j[0])"
      ]
    },
    {
      "cell_type": "code",
      "execution_count": null,
      "metadata": {},
      "outputs": [],
      "source": [
        "#loading ToTdict\n",
        "pickle_in = open('./storage/ToT.pickle','rb')\n",
        "ToTdict = pickle.load(pickle_in)"
      ]
    },
    {
      "cell_type": "code",
      "execution_count": null,
      "metadata": {},
      "outputs": [],
      "source": [
        "#loading dict sector forecastevals\n",
        "pickle_in = open('./storage/sector_resources/' + gics_sector + '/forecasteval.pickle','rb')\n",
        "imptd_forecasteval = pickle.load(pickle_in)\n",
        "\n",
        "#loading dict sector forecastdata\n",
        "pickle_in = open('./storage/sector_resources/' + gics_sector + '/forecastdata.pickle','rb')\n",
        "imptd_forecastdata = pickle.load(pickle_in)\n",
        "\n",
        "#loading dict sector scalers\n",
        "pickle_in = open('./storage/sector_resources/' + gics_sector + '/scaler.pickle','rb')\n",
        "imptd_scalers = pickle.load(pickle_in)"
      ]
    },
    {
      "cell_type": "code",
      "metadata": {
        "colab": {
          "base_uri": "https://localhost:8080/"
        },
        "id": "IEwiQ9tmv7QL",
        "outputId": "ba0dd8bf-d8a6-43be-b8e3-b80fa4bce8cb"
      },
      "source": [
        "#loading dict gen models\n",
        "ToT = '2021-04-20_09-59-53' # time string after model names/serves as a sort of 2FA for importing the correct models\n",
        "imptd_sector_generators = {}\n",
        "for j in sector_ticks:\n",
        "    imptd_sector_generators[j] = tf.keras.models.load_model('storage/models/sectors/' + gics_sector + '/' + j + '/gen/model_generator_%s' % (ToTdict[gics_sector]),compile=False)\n",
        "    print('>>' + j + ' loaded')"
      ],
      "execution_count": null,
      "outputs": []
    },
    {
      "source": [
        "---\n",
        "### Forecasting Ahead + Error\n",
        "---"
      ],
      "cell_type": "markdown",
      "metadata": {}
    },
    {
      "cell_type": "code",
      "execution_count": null,
      "metadata": {},
      "outputs": [],
      "source": [
        "# a function that uses the same scaler used to transform the data, back to its original scaling (prices) by concatenating the data we want transformed\n",
        "# back to its original shape with a bunch of meaningless data (in this case, zeros)\n",
        "def inverse_and_supply(data,scaler):\n",
        "    inverted = np.concatenate((data,np.zeros((num_times_train-window_len+1,n_features))))\n",
        "    inverted = scaler.inverse_transform(inverted)\n",
        "    return inverted[0]"
      ]
    },
    {
      "cell_type": "code",
      "execution_count": null,
      "metadata": {},
      "outputs": [],
      "source": [
        "# a function that just tries to estimate better trend slopes by multiplying current trend by (its current close price / sum of all the close prices in that sub industry)\n",
        "# the format of this 'array' input: 1st column is trend/slope, 2nd column is last close price witnessed, 3rd column, is final weighted trend/slope\n",
        "def weighted_trend(array):\n",
        "    closing_sum = sum(array[:,1])\n",
        "    array[:,2] = (array[:,1] / closing_sum) * array[:,0]\n",
        "    weighted = sum(array[:,2])\n",
        "    return weighted"
      ]
    },
    {
      "cell_type": "code",
      "execution_count": null,
      "metadata": {},
      "outputs": [],
      "source": [
        "def mae(arr1,arr2):\n",
        "    temp = sum(abs(arr1 - arr2))\n",
        "    temp = temp / window_len\n",
        "    return temp"
      ]
    },
    {
      "cell_type": "code",
      "execution_count": null,
      "metadata": {},
      "outputs": [],
      "source": [
        "def rmse(arr1,arr2):\n",
        "    return (sum((arr1 - arr2) ** 2) / window_len) ** 0.5"
      ]
    },
    {
      "cell_type": "code",
      "execution_count": null,
      "metadata": {
        "tags": []
      },
      "outputs": [],
      "source": [
        "#creates a copy of the imported forecastdata which is just the last sample in the training dataset not used\n",
        "rolling_forecastdata = dict(imptd_forecastdata)\n",
        "#new dict for predicted values\n",
        "predicted = {}\n",
        "for j in sector_ticks:\n",
        "    for i in range(window_len):\n",
        "        #create empty appendable array in each key within predicted\n",
        "        if j not in predicted.keys():\n",
        "            predicted[j] = np.empty((0,n_features))\n",
        "        #generate a sample by inputting the current sample in rolling forecastdata and the model necessary to predict on this ticker\n",
        "        temp,_ = generated_sample(rolling_forecastdata[j], imptd_sector_generators[j])\n",
        "\n",
        "        # append to the empty array with a row vector corresponding to the prediction. temp[0,5], because generators output size (1,6,n_features) and we only want the last row vector          # within this shape\n",
        "        predicted[j] = np.append(predicted[j],np.array([temp[0,5]]),axis=0)\n",
        "\n",
        "        # adding a dimension to this row vector to use for more post-processing\n",
        "        row_predicted_2d = np.array([predicted[j][i]])\n",
        "\n",
        "        # rolling the forecast data we want to predict on, one time-step forward, so essentially popping the first element and appending the predicted value\n",
        "        rolling_forecastdata[j] = np.concatenate((rolling_forecastdata[j][1:],row_predicted_2d))\n",
        "\n",
        "        # performing an inverse transform so that the data within predicted isnt scaled and in interpretable prices\n",
        "        predicted[j][i] = inverse_and_supply(row_predicted_2d,imptd_scalers[j])\n",
        "    print('>>' + j + ' Predicted')\n",
        "    "
      ]
    },
    {
      "cell_type": "code",
      "execution_count": null,
      "metadata": {},
      "outputs": [],
      "source": [
        "#real trends for error calculation\n",
        "real_trends = {}\n",
        "\n",
        "#new empty dict for trends/5-past-slope/flat forecast\n",
        "model_trends = {}\n",
        "slope = {}\n",
        "\n",
        "for j in sector_ticks:\n",
        "\n",
        "    # finding out the sub-ind for each ticker\n",
        "    subind = meta[meta.Ticker == j]['GICS Sub-Industry'].iloc[0]\n",
        "\n",
        "    # adding it as a key and giving it an empty array if it does not exist\n",
        "    # this empty array within each sub-industry key allows itself to be appended with however many tickers\n",
        "    # correspond to this sub-industry\n",
        "    if subind not in model_trends.keys():\n",
        "        model_trends[subind] = np.empty((0,3))\n",
        "        real_trends[subind] = np.empty((0,3)) \n",
        "        slope[subind] = np.empty((0,3))\n",
        "\n",
        "    # last closing price in the ticker's prediction set which is always length : window_len (which is 5)  \n",
        "    real_closing = imptd_forecasteval[j][4]\n",
        "    trend_closing = predicted[j][-1,0]\n",
        "    slope_closing = imptd_forecastdata[j][-1,0]\n",
        "   \n",
        "    # trend calculation, first close price + last close price / timesteps in between\n",
        "    real_trend = (imptd_forecasteval[j][0] + real_closing) / window_len\n",
        "    model_trend = (predicted[j][0,0] + trend_closing) / window_len\n",
        "    slope_trend = (imptd_forecastdata[j][0,0] + slope_closing) / window_len\n",
        "    \n",
        "    # temp variable for storing these values within the trends dict\n",
        "    real_temp = np.array([[real_trend,real_closing,0]])\n",
        "    model_temp = np.array([[model_trend,trend_closing,0]])\n",
        "    slope_temp = np.array([[slope_trend,slope_closing,0]])\n",
        "\n",
        "    # finally appending these variables to trends\n",
        "    real_trends[subind] = np.append(real_trends[subind],real_temp,axis=0)\n",
        "    model_trends[subind] = np.append(model_trends[subind],model_temp,axis=0)\n",
        "    slope[subind] = np.append(slope[subind],slope_temp,axis=0)\n",
        "    "
      ]
    },
    {
      "cell_type": "code",
      "execution_count": null,
      "metadata": {},
      "outputs": [],
      "source": [
        "# performing a weighted trend calculation that just replaces the entire array with a scalar\n",
        "for j in model_trends.keys():\n",
        "    real_trends[j] = weighted_trend(real_trends[j])\n",
        "    model_trends[j] = weighted_trend(model_trends[j])\n",
        "    slope[j] = weighted_trend(slope[j])"
      ]
    },
    {
      "cell_type": "code",
      "execution_count": null,
      "metadata": {},
      "outputs": [],
      "source": [
        "'''\n",
        "#real\n",
        "arr_r = np.array(list(real_trends.values()))\n",
        "\n",
        "#forecast variations\n",
        "arr_f = np.array(list(model_trends.values()))\n",
        "arr_5 = np.array(list(slope.values()))\n",
        "arr_flat = np.zeros(len(list(model_trends.values())))\n",
        "'''"
      ]
    },
    {
      "source": [
        "'''\n",
        "#model mae rmse\n",
        "sector_trend_mae[gics_sector] = mae(arr_f,arr_r)\n",
        "sector_trend_rmse[gics_sector] = rmse(arr_f,arr_r)\n",
        "\n",
        "#last 5 day derivative mae rmse\n",
        "sector_slope_mae[gics_sector] = mae(arr_5,arr_r)\n",
        "sector_slope_rmse[gics_sector] = rmse(arr_5,arr_r)\n",
        "\n",
        "#flat forecast mae rmse\n",
        "sector_flat_mae[gics_sector] = mae(arr_flat,arr_r)\n",
        "sector_flat_rmse[gics_sector] = rmse(arr_flat,arr_r)\n",
        "'''"
      ],
      "cell_type": "code",
      "metadata": {},
      "execution_count": null,
      "outputs": []
    },
    {
      "cell_type": "code",
      "execution_count": null,
      "metadata": {},
      "outputs": [],
      "source": [
        "'''\n",
        "#saving error\n",
        "pickle_out1 = open('./storage/errors/sector_trend_mae.pickle','wb')\n",
        "pickle_out2 = open('./storage/errors/sector_trend_rmse.pickle','wb')\n",
        "pickle_out3 = open('./storage/errors/sector_slope_mae.pickle','wb')\n",
        "pickle_out4 = open('./storage/errors/sector_slope_rmse.pickle','wb')\n",
        "pickle_out5 = open('./storage/errors/sector_flat_mae.pickle','wb')\n",
        "pickle_out6 = open('./storage/errors/sector_flat_rmse.pickle','wb')\n",
        "pickle.dump(sector_trend_mae,pickle_out1)\n",
        "pickle.dump(sector_trend_rmse,pickle_out2)\n",
        "pickle.dump(sector_slope_mae,pickle_out3)\n",
        "pickle.dump(sector_slope_rmse,pickle_out4)\n",
        "pickle.dump(sector_flat_mae,pickle_out5)\n",
        "pickle.dump(sector_flat_rmse,pickle_out6)\n",
        "pickle_out1.close()\n",
        "pickle_out2.close()\n",
        "pickle_out3.close()\n",
        "pickle_out4.close()\n",
        "pickle_out5.close()\n",
        "pickle_out6.close()\n",
        "'''"
      ]
    },
    {
      "cell_type": "code",
      "execution_count": null,
      "metadata": {},
      "outputs": [],
      "source": [
        "lists = sorted(model_trends.items(), key=lambda kv: kv[1], reverse=True)\n",
        "x, y = zip(*lists)\n",
        "\n",
        "plt.grid('on',zorder=0)\n",
        "plt.barh(x,y,color='orange',zorder=3)\n",
        "plt.title(gics_sector + ' Sub-Industry Trends')\n",
        "plt.xlabel('Predicted Closing Price Weighted Growth Rate')\n",
        "plt.savefig('./storage/trends/' + gics_sector + '.png',facecolor='white',bbox_inches = 'tight')"
      ]
    },
    {
      "source": [
        "---\n",
        "### Loading Error and Graphs\n",
        "---"
      ],
      "cell_type": "markdown",
      "metadata": {}
    },
    {
      "cell_type": "code",
      "execution_count": 5,
      "metadata": {},
      "outputs": [],
      "source": [
        "#loading error\n",
        "pickle_in1 = open('./storage/errors/sector_trend_mae.pickle','rb')\n",
        "pickle_in2 = open('./storage/errors/sector_trend_rmse.pickle','rb')\n",
        "pickle_in3 = open('./storage/errors/sector_slope_mae.pickle','rb')\n",
        "pickle_in4 = open('./storage/errors/sector_slope_rmse.pickle','rb')\n",
        "pickle_in5 = open('./storage/errors/sector_flat_mae.pickle','rb')\n",
        "pickle_in6 = open('./storage/errors/sector_flat_rmse.pickle','rb')\n",
        "\n",
        "sector_trend_mae = pickle.load(pickle_in1)\n",
        "sector_trend_rmse = pickle.load(pickle_in2)\n",
        "sector_slope_mae = pickle.load(pickle_in3)\n",
        "sector_slope_rmse = pickle.load(pickle_in4)\n",
        "sector_flat_mae = pickle.load(pickle_in5)\n",
        "sector_flat_rmse = pickle.load(pickle_in6)"
      ]
    },
    {
      "cell_type": "code",
      "execution_count": 17,
      "metadata": {},
      "outputs": [],
      "source": [
        "colors = {\n",
        "    'background': '#1a1a1a',\n",
        "    'text': '#f2f2f2',\n",
        "    'textShadow': '2px 2px 2px #0d0d0d'\n",
        "}"
      ]
    },
    {
      "cell_type": "code",
      "execution_count": 30,
      "metadata": {},
      "outputs": [],
      "source": [
        "df1 = pd.concat((pd.Series(sector_trend_mae, name='Model'),pd.Series(sector_slope_mae, name='Slope'),pd.Series(sector_flat_mae, name='Flat')),axis=1) \n",
        "df2 = pd.concat((pd.Series(sector_trend_rmse, name='Model'),pd.Series(sector_slope_rmse, name='Slope'), pd.Series(sector_flat_rmse, name='Flat')),axis=1)"
      ]
    },
    {
      "cell_type": "code",
      "execution_count": 65,
      "metadata": {},
      "outputs": [
        {
          "output_type": "display_data",
          "data": {
            "application/vnd.plotly.v1+json": {
              "config": {
                "plotlyServerURL": "https://plot.ly"
              },
              "data": [
                {
                  "alignmentgroup": "True",
                  "hovertemplate": "variable=Model<br>value=%{x}<br>index=%{y}<extra></extra>",
                  "legendgroup": "Model",
                  "marker": {
                    "color": "#636efa",
                    "line": {
                      "color": "#1a1a1a",
                      "width": 1
                    }
                  },
                  "name": "Model",
                  "offsetgroup": "Model",
                  "orientation": "h",
                  "showlegend": true,
                  "textposition": "auto",
                  "type": "bar",
                  "x": [
                    26.861056558880875,
                    20.823024284887076,
                    15.790377536352633,
                    10.309893608448366,
                    112.40151608462145,
                    0.9208415889675848,
                    12.76883048988006,
                    5.6655482884126,
                    3.0545200000369883,
                    7.156628329496431,
                    3.4520679515667583
                  ],
                  "xaxis": "x",
                  "y": [
                    "Industrials",
                    "Health Care",
                    "Information Technology",
                    "Communication Services",
                    "Consumer Discretionary",
                    "Utilities",
                    "Financials",
                    "Materials",
                    "Real Estate",
                    "Consumer Staples",
                    "Energy"
                  ],
                  "yaxis": "y"
                },
                {
                  "alignmentgroup": "True",
                  "hovertemplate": "variable=Slope<br>value=%{x}<br>index=%{y}<extra></extra>",
                  "legendgroup": "Slope",
                  "marker": {
                    "color": "#EF553B",
                    "line": {
                      "color": "#1a1a1a",
                      "width": 1
                    }
                  },
                  "name": "Slope",
                  "offsetgroup": "Slope",
                  "orientation": "h",
                  "showlegend": true,
                  "textposition": "auto",
                  "type": "bar",
                  "x": [
                    280.9323937927407,
                    233.30189264355863,
                    254.66190274678303,
                    269.0719882088175,
                    954.0791407004542,
                    35.68122753315147,
                    202.26440449203912,
                    109.36105317795798,
                    80.90020692063247,
                    108.90738607910494,
                    23.325411763298924
                  ],
                  "xaxis": "x",
                  "y": [
                    "Industrials",
                    "Health Care",
                    "Information Technology",
                    "Communication Services",
                    "Consumer Discretionary",
                    "Utilities",
                    "Financials",
                    "Materials",
                    "Real Estate",
                    "Consumer Staples",
                    "Energy"
                  ],
                  "yaxis": "y"
                },
                {
                  "alignmentgroup": "True",
                  "hovertemplate": "variable=Flat<br>value=%{x}<br>index=%{y}<extra></extra>",
                  "legendgroup": "Flat",
                  "marker": {
                    "color": "#00cc96",
                    "line": {
                      "color": "#1a1a1a",
                      "width": 1
                    }
                  },
                  "name": "Flat",
                  "offsetgroup": "Flat",
                  "orientation": "h",
                  "showlegend": true,
                  "textposition": "auto",
                  "type": "bar",
                  "x": [
                    283.44812751861116,
                    234.19417726712186,
                    256.38458024021725,
                    270.05820393846096,
                    956.830020350556,
                    36.02262332860205,
                    204.25771089401277,
                    110.60238475647354,
                    82.11267625771164,
                    110.13894897150628,
                    24.039387734458547
                  ],
                  "xaxis": "x",
                  "y": [
                    "Industrials",
                    "Health Care",
                    "Information Technology",
                    "Communication Services",
                    "Consumer Discretionary",
                    "Utilities",
                    "Financials",
                    "Materials",
                    "Real Estate",
                    "Consumer Staples",
                    "Energy"
                  ],
                  "yaxis": "y"
                }
              ],
              "layout": {
                "bargap": 0.3,
                "barmode": "group",
                "font": {
                  "color": "#f2f2f2",
                  "family": "Courier New"
                },
                "legend": {
                  "title": {
                    "text": "variable"
                  },
                  "tracegroupgap": 0
                },
                "margin": {
                  "t": 60
                },
                "paper_bgcolor": "#1a1a1a",
                "plot_bgcolor": "#1a1a1a",
                "template": {
                  "data": {
                    "bar": [
                      {
                        "error_x": {
                          "color": "#2a3f5f"
                        },
                        "error_y": {
                          "color": "#2a3f5f"
                        },
                        "marker": {
                          "line": {
                            "color": "#E5ECF6",
                            "width": 0.5
                          }
                        },
                        "type": "bar"
                      }
                    ],
                    "barpolar": [
                      {
                        "marker": {
                          "line": {
                            "color": "#E5ECF6",
                            "width": 0.5
                          }
                        },
                        "type": "barpolar"
                      }
                    ],
                    "carpet": [
                      {
                        "aaxis": {
                          "endlinecolor": "#2a3f5f",
                          "gridcolor": "white",
                          "linecolor": "white",
                          "minorgridcolor": "white",
                          "startlinecolor": "#2a3f5f"
                        },
                        "baxis": {
                          "endlinecolor": "#2a3f5f",
                          "gridcolor": "white",
                          "linecolor": "white",
                          "minorgridcolor": "white",
                          "startlinecolor": "#2a3f5f"
                        },
                        "type": "carpet"
                      }
                    ],
                    "choropleth": [
                      {
                        "colorbar": {
                          "outlinewidth": 0,
                          "ticks": ""
                        },
                        "type": "choropleth"
                      }
                    ],
                    "contour": [
                      {
                        "colorbar": {
                          "outlinewidth": 0,
                          "ticks": ""
                        },
                        "colorscale": [
                          [
                            0,
                            "#0d0887"
                          ],
                          [
                            0.1111111111111111,
                            "#46039f"
                          ],
                          [
                            0.2222222222222222,
                            "#7201a8"
                          ],
                          [
                            0.3333333333333333,
                            "#9c179e"
                          ],
                          [
                            0.4444444444444444,
                            "#bd3786"
                          ],
                          [
                            0.5555555555555556,
                            "#d8576b"
                          ],
                          [
                            0.6666666666666666,
                            "#ed7953"
                          ],
                          [
                            0.7777777777777778,
                            "#fb9f3a"
                          ],
                          [
                            0.8888888888888888,
                            "#fdca26"
                          ],
                          [
                            1,
                            "#f0f921"
                          ]
                        ],
                        "type": "contour"
                      }
                    ],
                    "contourcarpet": [
                      {
                        "colorbar": {
                          "outlinewidth": 0,
                          "ticks": ""
                        },
                        "type": "contourcarpet"
                      }
                    ],
                    "heatmap": [
                      {
                        "colorbar": {
                          "outlinewidth": 0,
                          "ticks": ""
                        },
                        "colorscale": [
                          [
                            0,
                            "#0d0887"
                          ],
                          [
                            0.1111111111111111,
                            "#46039f"
                          ],
                          [
                            0.2222222222222222,
                            "#7201a8"
                          ],
                          [
                            0.3333333333333333,
                            "#9c179e"
                          ],
                          [
                            0.4444444444444444,
                            "#bd3786"
                          ],
                          [
                            0.5555555555555556,
                            "#d8576b"
                          ],
                          [
                            0.6666666666666666,
                            "#ed7953"
                          ],
                          [
                            0.7777777777777778,
                            "#fb9f3a"
                          ],
                          [
                            0.8888888888888888,
                            "#fdca26"
                          ],
                          [
                            1,
                            "#f0f921"
                          ]
                        ],
                        "type": "heatmap"
                      }
                    ],
                    "heatmapgl": [
                      {
                        "colorbar": {
                          "outlinewidth": 0,
                          "ticks": ""
                        },
                        "colorscale": [
                          [
                            0,
                            "#0d0887"
                          ],
                          [
                            0.1111111111111111,
                            "#46039f"
                          ],
                          [
                            0.2222222222222222,
                            "#7201a8"
                          ],
                          [
                            0.3333333333333333,
                            "#9c179e"
                          ],
                          [
                            0.4444444444444444,
                            "#bd3786"
                          ],
                          [
                            0.5555555555555556,
                            "#d8576b"
                          ],
                          [
                            0.6666666666666666,
                            "#ed7953"
                          ],
                          [
                            0.7777777777777778,
                            "#fb9f3a"
                          ],
                          [
                            0.8888888888888888,
                            "#fdca26"
                          ],
                          [
                            1,
                            "#f0f921"
                          ]
                        ],
                        "type": "heatmapgl"
                      }
                    ],
                    "histogram": [
                      {
                        "marker": {
                          "colorbar": {
                            "outlinewidth": 0,
                            "ticks": ""
                          }
                        },
                        "type": "histogram"
                      }
                    ],
                    "histogram2d": [
                      {
                        "colorbar": {
                          "outlinewidth": 0,
                          "ticks": ""
                        },
                        "colorscale": [
                          [
                            0,
                            "#0d0887"
                          ],
                          [
                            0.1111111111111111,
                            "#46039f"
                          ],
                          [
                            0.2222222222222222,
                            "#7201a8"
                          ],
                          [
                            0.3333333333333333,
                            "#9c179e"
                          ],
                          [
                            0.4444444444444444,
                            "#bd3786"
                          ],
                          [
                            0.5555555555555556,
                            "#d8576b"
                          ],
                          [
                            0.6666666666666666,
                            "#ed7953"
                          ],
                          [
                            0.7777777777777778,
                            "#fb9f3a"
                          ],
                          [
                            0.8888888888888888,
                            "#fdca26"
                          ],
                          [
                            1,
                            "#f0f921"
                          ]
                        ],
                        "type": "histogram2d"
                      }
                    ],
                    "histogram2dcontour": [
                      {
                        "colorbar": {
                          "outlinewidth": 0,
                          "ticks": ""
                        },
                        "colorscale": [
                          [
                            0,
                            "#0d0887"
                          ],
                          [
                            0.1111111111111111,
                            "#46039f"
                          ],
                          [
                            0.2222222222222222,
                            "#7201a8"
                          ],
                          [
                            0.3333333333333333,
                            "#9c179e"
                          ],
                          [
                            0.4444444444444444,
                            "#bd3786"
                          ],
                          [
                            0.5555555555555556,
                            "#d8576b"
                          ],
                          [
                            0.6666666666666666,
                            "#ed7953"
                          ],
                          [
                            0.7777777777777778,
                            "#fb9f3a"
                          ],
                          [
                            0.8888888888888888,
                            "#fdca26"
                          ],
                          [
                            1,
                            "#f0f921"
                          ]
                        ],
                        "type": "histogram2dcontour"
                      }
                    ],
                    "mesh3d": [
                      {
                        "colorbar": {
                          "outlinewidth": 0,
                          "ticks": ""
                        },
                        "type": "mesh3d"
                      }
                    ],
                    "parcoords": [
                      {
                        "line": {
                          "colorbar": {
                            "outlinewidth": 0,
                            "ticks": ""
                          }
                        },
                        "type": "parcoords"
                      }
                    ],
                    "pie": [
                      {
                        "automargin": true,
                        "type": "pie"
                      }
                    ],
                    "scatter": [
                      {
                        "marker": {
                          "colorbar": {
                            "outlinewidth": 0,
                            "ticks": ""
                          }
                        },
                        "type": "scatter"
                      }
                    ],
                    "scatter3d": [
                      {
                        "line": {
                          "colorbar": {
                            "outlinewidth": 0,
                            "ticks": ""
                          }
                        },
                        "marker": {
                          "colorbar": {
                            "outlinewidth": 0,
                            "ticks": ""
                          }
                        },
                        "type": "scatter3d"
                      }
                    ],
                    "scattercarpet": [
                      {
                        "marker": {
                          "colorbar": {
                            "outlinewidth": 0,
                            "ticks": ""
                          }
                        },
                        "type": "scattercarpet"
                      }
                    ],
                    "scattergeo": [
                      {
                        "marker": {
                          "colorbar": {
                            "outlinewidth": 0,
                            "ticks": ""
                          }
                        },
                        "type": "scattergeo"
                      }
                    ],
                    "scattergl": [
                      {
                        "marker": {
                          "colorbar": {
                            "outlinewidth": 0,
                            "ticks": ""
                          }
                        },
                        "type": "scattergl"
                      }
                    ],
                    "scattermapbox": [
                      {
                        "marker": {
                          "colorbar": {
                            "outlinewidth": 0,
                            "ticks": ""
                          }
                        },
                        "type": "scattermapbox"
                      }
                    ],
                    "scatterpolar": [
                      {
                        "marker": {
                          "colorbar": {
                            "outlinewidth": 0,
                            "ticks": ""
                          }
                        },
                        "type": "scatterpolar"
                      }
                    ],
                    "scatterpolargl": [
                      {
                        "marker": {
                          "colorbar": {
                            "outlinewidth": 0,
                            "ticks": ""
                          }
                        },
                        "type": "scatterpolargl"
                      }
                    ],
                    "scatterternary": [
                      {
                        "marker": {
                          "colorbar": {
                            "outlinewidth": 0,
                            "ticks": ""
                          }
                        },
                        "type": "scatterternary"
                      }
                    ],
                    "surface": [
                      {
                        "colorbar": {
                          "outlinewidth": 0,
                          "ticks": ""
                        },
                        "colorscale": [
                          [
                            0,
                            "#0d0887"
                          ],
                          [
                            0.1111111111111111,
                            "#46039f"
                          ],
                          [
                            0.2222222222222222,
                            "#7201a8"
                          ],
                          [
                            0.3333333333333333,
                            "#9c179e"
                          ],
                          [
                            0.4444444444444444,
                            "#bd3786"
                          ],
                          [
                            0.5555555555555556,
                            "#d8576b"
                          ],
                          [
                            0.6666666666666666,
                            "#ed7953"
                          ],
                          [
                            0.7777777777777778,
                            "#fb9f3a"
                          ],
                          [
                            0.8888888888888888,
                            "#fdca26"
                          ],
                          [
                            1,
                            "#f0f921"
                          ]
                        ],
                        "type": "surface"
                      }
                    ],
                    "table": [
                      {
                        "cells": {
                          "fill": {
                            "color": "#EBF0F8"
                          },
                          "line": {
                            "color": "white"
                          }
                        },
                        "header": {
                          "fill": {
                            "color": "#C8D4E3"
                          },
                          "line": {
                            "color": "white"
                          }
                        },
                        "type": "table"
                      }
                    ]
                  },
                  "layout": {
                    "annotationdefaults": {
                      "arrowcolor": "#2a3f5f",
                      "arrowhead": 0,
                      "arrowwidth": 1
                    },
                    "autotypenumbers": "strict",
                    "coloraxis": {
                      "colorbar": {
                        "outlinewidth": 0,
                        "ticks": ""
                      }
                    },
                    "colorscale": {
                      "diverging": [
                        [
                          0,
                          "#8e0152"
                        ],
                        [
                          0.1,
                          "#c51b7d"
                        ],
                        [
                          0.2,
                          "#de77ae"
                        ],
                        [
                          0.3,
                          "#f1b6da"
                        ],
                        [
                          0.4,
                          "#fde0ef"
                        ],
                        [
                          0.5,
                          "#f7f7f7"
                        ],
                        [
                          0.6,
                          "#e6f5d0"
                        ],
                        [
                          0.7,
                          "#b8e186"
                        ],
                        [
                          0.8,
                          "#7fbc41"
                        ],
                        [
                          0.9,
                          "#4d9221"
                        ],
                        [
                          1,
                          "#276419"
                        ]
                      ],
                      "sequential": [
                        [
                          0,
                          "#0d0887"
                        ],
                        [
                          0.1111111111111111,
                          "#46039f"
                        ],
                        [
                          0.2222222222222222,
                          "#7201a8"
                        ],
                        [
                          0.3333333333333333,
                          "#9c179e"
                        ],
                        [
                          0.4444444444444444,
                          "#bd3786"
                        ],
                        [
                          0.5555555555555556,
                          "#d8576b"
                        ],
                        [
                          0.6666666666666666,
                          "#ed7953"
                        ],
                        [
                          0.7777777777777778,
                          "#fb9f3a"
                        ],
                        [
                          0.8888888888888888,
                          "#fdca26"
                        ],
                        [
                          1,
                          "#f0f921"
                        ]
                      ],
                      "sequentialminus": [
                        [
                          0,
                          "#0d0887"
                        ],
                        [
                          0.1111111111111111,
                          "#46039f"
                        ],
                        [
                          0.2222222222222222,
                          "#7201a8"
                        ],
                        [
                          0.3333333333333333,
                          "#9c179e"
                        ],
                        [
                          0.4444444444444444,
                          "#bd3786"
                        ],
                        [
                          0.5555555555555556,
                          "#d8576b"
                        ],
                        [
                          0.6666666666666666,
                          "#ed7953"
                        ],
                        [
                          0.7777777777777778,
                          "#fb9f3a"
                        ],
                        [
                          0.8888888888888888,
                          "#fdca26"
                        ],
                        [
                          1,
                          "#f0f921"
                        ]
                      ]
                    },
                    "colorway": [
                      "#636efa",
                      "#EF553B",
                      "#00cc96",
                      "#ab63fa",
                      "#FFA15A",
                      "#19d3f3",
                      "#FF6692",
                      "#B6E880",
                      "#FF97FF",
                      "#FECB52"
                    ],
                    "font": {
                      "color": "#2a3f5f"
                    },
                    "geo": {
                      "bgcolor": "white",
                      "lakecolor": "white",
                      "landcolor": "#E5ECF6",
                      "showlakes": true,
                      "showland": true,
                      "subunitcolor": "white"
                    },
                    "hoverlabel": {
                      "align": "left"
                    },
                    "hovermode": "closest",
                    "mapbox": {
                      "style": "light"
                    },
                    "paper_bgcolor": "white",
                    "plot_bgcolor": "#E5ECF6",
                    "polar": {
                      "angularaxis": {
                        "gridcolor": "white",
                        "linecolor": "white",
                        "ticks": ""
                      },
                      "bgcolor": "#E5ECF6",
                      "radialaxis": {
                        "gridcolor": "white",
                        "linecolor": "white",
                        "ticks": ""
                      }
                    },
                    "scene": {
                      "xaxis": {
                        "backgroundcolor": "#E5ECF6",
                        "gridcolor": "white",
                        "gridwidth": 2,
                        "linecolor": "white",
                        "showbackground": true,
                        "ticks": "",
                        "zerolinecolor": "white"
                      },
                      "yaxis": {
                        "backgroundcolor": "#E5ECF6",
                        "gridcolor": "white",
                        "gridwidth": 2,
                        "linecolor": "white",
                        "showbackground": true,
                        "ticks": "",
                        "zerolinecolor": "white"
                      },
                      "zaxis": {
                        "backgroundcolor": "#E5ECF6",
                        "gridcolor": "white",
                        "gridwidth": 2,
                        "linecolor": "white",
                        "showbackground": true,
                        "ticks": "",
                        "zerolinecolor": "white"
                      }
                    },
                    "shapedefaults": {
                      "line": {
                        "color": "#2a3f5f"
                      }
                    },
                    "ternary": {
                      "aaxis": {
                        "gridcolor": "white",
                        "linecolor": "white",
                        "ticks": ""
                      },
                      "baxis": {
                        "gridcolor": "white",
                        "linecolor": "white",
                        "ticks": ""
                      },
                      "bgcolor": "#E5ECF6",
                      "caxis": {
                        "gridcolor": "white",
                        "linecolor": "white",
                        "ticks": ""
                      }
                    },
                    "title": {
                      "x": 0.05
                    },
                    "xaxis": {
                      "automargin": true,
                      "gridcolor": "white",
                      "linecolor": "white",
                      "ticks": "",
                      "title": {
                        "standoff": 15
                      },
                      "zerolinecolor": "white",
                      "zerolinewidth": 2
                    },
                    "yaxis": {
                      "automargin": true,
                      "gridcolor": "white",
                      "linecolor": "white",
                      "ticks": "",
                      "title": {
                        "standoff": 15
                      },
                      "zerolinecolor": "white",
                      "zerolinewidth": 2
                    }
                  }
                },
                "title": {
                  "text": "GICS Sector Forecast MAE",
                  "x": 0.5
                },
                "xaxis": {
                  "anchor": "y",
                  "domain": [
                    0,
                    1
                  ],
                  "title": {
                    "text": "Mean Absolute Error"
                  },
                  "type": "log"
                },
                "yaxis": {
                  "anchor": "x",
                  "domain": [
                    0,
                    1
                  ],
                  "title": {
                    "text": "Sectors"
                  }
                }
              }
            }
          },
          "metadata": {}
        }
      ],
      "source": [
        "fig = px.bar(df1,barmode='group',orientation='h',log_x=True)\n",
        "fig.update_layout(\n",
        "    title='GICS Sector Forecast MAE',\n",
        "    title_x=.5,\n",
        "    plot_bgcolor=colors['background'],\n",
        "    paper_bgcolor=colors['background'],\n",
        "    font_color=colors['text'],\n",
        "    font_family='Courier New',\n",
        "    bargap=.3\n",
        "    \n",
        ")\n",
        "fig.update_xaxes(title={'text':'Mean Absolute Error'})\n",
        "fig.update_yaxes(title={'text':'Sectors'})\n",
        "fig.update_traces(marker = dict(\n",
        "    line = dict(\n",
        "        color=colors['background'],\n",
        "        width=1\n",
        "    )\n",
        "))"
      ]
    },
    {
      "cell_type": "code",
      "execution_count": 67,
      "metadata": {},
      "outputs": [
        {
          "output_type": "display_data",
          "data": {
            "application/vnd.plotly.v1+json": {
              "config": {
                "plotlyServerURL": "https://plot.ly"
              },
              "data": [
                {
                  "alignmentgroup": "True",
                  "hovertemplate": "variable=Model<br>value=%{x}<br>index=%{y}<extra></extra>",
                  "legendgroup": "Model",
                  "marker": {
                    "color": "#636efa",
                    "line": {
                      "color": "#1a1a1a",
                      "width": 1
                    }
                  },
                  "name": "Model",
                  "offsetgroup": "Model",
                  "orientation": "h",
                  "showlegend": true,
                  "textposition": "auto",
                  "type": "bar",
                  "x": [
                    23.494624740780825,
                    25.727344506450297,
                    11.451730756031099,
                    12.378842677242003,
                    137.68060177211606,
                    1.1234146946823864,
                    12.674516876589037,
                    5.136401830663777,
                    2.975794243343158,
                    7.660575163628863,
                    4.706201149951509
                  ],
                  "xaxis": "x",
                  "y": [
                    "Industrials",
                    "Health Care",
                    "Information Technology",
                    "Communication Services",
                    "Consumer Discretionary",
                    "Utilities",
                    "Financials",
                    "Materials",
                    "Real Estate",
                    "Consumer Staples",
                    "Energy"
                  ],
                  "yaxis": "y"
                },
                {
                  "alignmentgroup": "True",
                  "hovertemplate": "variable=Slope<br>value=%{x}<br>index=%{y}<extra></extra>",
                  "legendgroup": "Slope",
                  "marker": {
                    "color": "#EF553B",
                    "line": {
                      "color": "#1a1a1a",
                      "width": 1
                    }
                  },
                  "name": "Slope",
                  "offsetgroup": "Slope",
                  "orientation": "h",
                  "showlegend": true,
                  "textposition": "auto",
                  "type": "bar",
                  "x": [
                    167.8003988038735,
                    196.58240081917165,
                    172.12207787981018,
                    381.9850473883092,
                    988.0927248100243,
                    38.835347932042396,
                    148.19860489137668,
                    88.37751985560082,
                    82.69266447088492,
                    87.88174272720553,
                    25.53205358230968
                  ],
                  "xaxis": "x",
                  "y": [
                    "Industrials",
                    "Health Care",
                    "Information Technology",
                    "Communication Services",
                    "Consumer Discretionary",
                    "Utilities",
                    "Financials",
                    "Materials",
                    "Real Estate",
                    "Consumer Staples",
                    "Energy"
                  ],
                  "yaxis": "y"
                },
                {
                  "alignmentgroup": "True",
                  "hovertemplate": "variable=Flat<br>value=%{x}<br>index=%{y}<extra></extra>",
                  "legendgroup": "Flat",
                  "marker": {
                    "color": "#00cc96",
                    "line": {
                      "color": "#1a1a1a",
                      "width": 1
                    }
                  },
                  "name": "Flat",
                  "offsetgroup": "Flat",
                  "orientation": "h",
                  "showlegend": true,
                  "textposition": "auto",
                  "type": "bar",
                  "x": [
                    169.02876103817016,
                    197.09806619741067,
                    173.1458460891942,
                    382.4460495321785,
                    988.8308861450691,
                    39.105621477642906,
                    149.22997514520313,
                    89.08961833124523,
                    83.51119527759666,
                    88.50830444027709,
                    26.215035036387075
                  ],
                  "xaxis": "x",
                  "y": [
                    "Industrials",
                    "Health Care",
                    "Information Technology",
                    "Communication Services",
                    "Consumer Discretionary",
                    "Utilities",
                    "Financials",
                    "Materials",
                    "Real Estate",
                    "Consumer Staples",
                    "Energy"
                  ],
                  "yaxis": "y"
                }
              ],
              "layout": {
                "bargap": 0.3,
                "barmode": "group",
                "font": {
                  "color": "#f2f2f2",
                  "family": "Courier New"
                },
                "legend": {
                  "title": {
                    "text": "variable"
                  },
                  "tracegroupgap": 0
                },
                "margin": {
                  "t": 60
                },
                "paper_bgcolor": "#1a1a1a",
                "plot_bgcolor": "#1a1a1a",
                "template": {
                  "data": {
                    "bar": [
                      {
                        "error_x": {
                          "color": "#2a3f5f"
                        },
                        "error_y": {
                          "color": "#2a3f5f"
                        },
                        "marker": {
                          "line": {
                            "color": "#E5ECF6",
                            "width": 0.5
                          }
                        },
                        "type": "bar"
                      }
                    ],
                    "barpolar": [
                      {
                        "marker": {
                          "line": {
                            "color": "#E5ECF6",
                            "width": 0.5
                          }
                        },
                        "type": "barpolar"
                      }
                    ],
                    "carpet": [
                      {
                        "aaxis": {
                          "endlinecolor": "#2a3f5f",
                          "gridcolor": "white",
                          "linecolor": "white",
                          "minorgridcolor": "white",
                          "startlinecolor": "#2a3f5f"
                        },
                        "baxis": {
                          "endlinecolor": "#2a3f5f",
                          "gridcolor": "white",
                          "linecolor": "white",
                          "minorgridcolor": "white",
                          "startlinecolor": "#2a3f5f"
                        },
                        "type": "carpet"
                      }
                    ],
                    "choropleth": [
                      {
                        "colorbar": {
                          "outlinewidth": 0,
                          "ticks": ""
                        },
                        "type": "choropleth"
                      }
                    ],
                    "contour": [
                      {
                        "colorbar": {
                          "outlinewidth": 0,
                          "ticks": ""
                        },
                        "colorscale": [
                          [
                            0,
                            "#0d0887"
                          ],
                          [
                            0.1111111111111111,
                            "#46039f"
                          ],
                          [
                            0.2222222222222222,
                            "#7201a8"
                          ],
                          [
                            0.3333333333333333,
                            "#9c179e"
                          ],
                          [
                            0.4444444444444444,
                            "#bd3786"
                          ],
                          [
                            0.5555555555555556,
                            "#d8576b"
                          ],
                          [
                            0.6666666666666666,
                            "#ed7953"
                          ],
                          [
                            0.7777777777777778,
                            "#fb9f3a"
                          ],
                          [
                            0.8888888888888888,
                            "#fdca26"
                          ],
                          [
                            1,
                            "#f0f921"
                          ]
                        ],
                        "type": "contour"
                      }
                    ],
                    "contourcarpet": [
                      {
                        "colorbar": {
                          "outlinewidth": 0,
                          "ticks": ""
                        },
                        "type": "contourcarpet"
                      }
                    ],
                    "heatmap": [
                      {
                        "colorbar": {
                          "outlinewidth": 0,
                          "ticks": ""
                        },
                        "colorscale": [
                          [
                            0,
                            "#0d0887"
                          ],
                          [
                            0.1111111111111111,
                            "#46039f"
                          ],
                          [
                            0.2222222222222222,
                            "#7201a8"
                          ],
                          [
                            0.3333333333333333,
                            "#9c179e"
                          ],
                          [
                            0.4444444444444444,
                            "#bd3786"
                          ],
                          [
                            0.5555555555555556,
                            "#d8576b"
                          ],
                          [
                            0.6666666666666666,
                            "#ed7953"
                          ],
                          [
                            0.7777777777777778,
                            "#fb9f3a"
                          ],
                          [
                            0.8888888888888888,
                            "#fdca26"
                          ],
                          [
                            1,
                            "#f0f921"
                          ]
                        ],
                        "type": "heatmap"
                      }
                    ],
                    "heatmapgl": [
                      {
                        "colorbar": {
                          "outlinewidth": 0,
                          "ticks": ""
                        },
                        "colorscale": [
                          [
                            0,
                            "#0d0887"
                          ],
                          [
                            0.1111111111111111,
                            "#46039f"
                          ],
                          [
                            0.2222222222222222,
                            "#7201a8"
                          ],
                          [
                            0.3333333333333333,
                            "#9c179e"
                          ],
                          [
                            0.4444444444444444,
                            "#bd3786"
                          ],
                          [
                            0.5555555555555556,
                            "#d8576b"
                          ],
                          [
                            0.6666666666666666,
                            "#ed7953"
                          ],
                          [
                            0.7777777777777778,
                            "#fb9f3a"
                          ],
                          [
                            0.8888888888888888,
                            "#fdca26"
                          ],
                          [
                            1,
                            "#f0f921"
                          ]
                        ],
                        "type": "heatmapgl"
                      }
                    ],
                    "histogram": [
                      {
                        "marker": {
                          "colorbar": {
                            "outlinewidth": 0,
                            "ticks": ""
                          }
                        },
                        "type": "histogram"
                      }
                    ],
                    "histogram2d": [
                      {
                        "colorbar": {
                          "outlinewidth": 0,
                          "ticks": ""
                        },
                        "colorscale": [
                          [
                            0,
                            "#0d0887"
                          ],
                          [
                            0.1111111111111111,
                            "#46039f"
                          ],
                          [
                            0.2222222222222222,
                            "#7201a8"
                          ],
                          [
                            0.3333333333333333,
                            "#9c179e"
                          ],
                          [
                            0.4444444444444444,
                            "#bd3786"
                          ],
                          [
                            0.5555555555555556,
                            "#d8576b"
                          ],
                          [
                            0.6666666666666666,
                            "#ed7953"
                          ],
                          [
                            0.7777777777777778,
                            "#fb9f3a"
                          ],
                          [
                            0.8888888888888888,
                            "#fdca26"
                          ],
                          [
                            1,
                            "#f0f921"
                          ]
                        ],
                        "type": "histogram2d"
                      }
                    ],
                    "histogram2dcontour": [
                      {
                        "colorbar": {
                          "outlinewidth": 0,
                          "ticks": ""
                        },
                        "colorscale": [
                          [
                            0,
                            "#0d0887"
                          ],
                          [
                            0.1111111111111111,
                            "#46039f"
                          ],
                          [
                            0.2222222222222222,
                            "#7201a8"
                          ],
                          [
                            0.3333333333333333,
                            "#9c179e"
                          ],
                          [
                            0.4444444444444444,
                            "#bd3786"
                          ],
                          [
                            0.5555555555555556,
                            "#d8576b"
                          ],
                          [
                            0.6666666666666666,
                            "#ed7953"
                          ],
                          [
                            0.7777777777777778,
                            "#fb9f3a"
                          ],
                          [
                            0.8888888888888888,
                            "#fdca26"
                          ],
                          [
                            1,
                            "#f0f921"
                          ]
                        ],
                        "type": "histogram2dcontour"
                      }
                    ],
                    "mesh3d": [
                      {
                        "colorbar": {
                          "outlinewidth": 0,
                          "ticks": ""
                        },
                        "type": "mesh3d"
                      }
                    ],
                    "parcoords": [
                      {
                        "line": {
                          "colorbar": {
                            "outlinewidth": 0,
                            "ticks": ""
                          }
                        },
                        "type": "parcoords"
                      }
                    ],
                    "pie": [
                      {
                        "automargin": true,
                        "type": "pie"
                      }
                    ],
                    "scatter": [
                      {
                        "marker": {
                          "colorbar": {
                            "outlinewidth": 0,
                            "ticks": ""
                          }
                        },
                        "type": "scatter"
                      }
                    ],
                    "scatter3d": [
                      {
                        "line": {
                          "colorbar": {
                            "outlinewidth": 0,
                            "ticks": ""
                          }
                        },
                        "marker": {
                          "colorbar": {
                            "outlinewidth": 0,
                            "ticks": ""
                          }
                        },
                        "type": "scatter3d"
                      }
                    ],
                    "scattercarpet": [
                      {
                        "marker": {
                          "colorbar": {
                            "outlinewidth": 0,
                            "ticks": ""
                          }
                        },
                        "type": "scattercarpet"
                      }
                    ],
                    "scattergeo": [
                      {
                        "marker": {
                          "colorbar": {
                            "outlinewidth": 0,
                            "ticks": ""
                          }
                        },
                        "type": "scattergeo"
                      }
                    ],
                    "scattergl": [
                      {
                        "marker": {
                          "colorbar": {
                            "outlinewidth": 0,
                            "ticks": ""
                          }
                        },
                        "type": "scattergl"
                      }
                    ],
                    "scattermapbox": [
                      {
                        "marker": {
                          "colorbar": {
                            "outlinewidth": 0,
                            "ticks": ""
                          }
                        },
                        "type": "scattermapbox"
                      }
                    ],
                    "scatterpolar": [
                      {
                        "marker": {
                          "colorbar": {
                            "outlinewidth": 0,
                            "ticks": ""
                          }
                        },
                        "type": "scatterpolar"
                      }
                    ],
                    "scatterpolargl": [
                      {
                        "marker": {
                          "colorbar": {
                            "outlinewidth": 0,
                            "ticks": ""
                          }
                        },
                        "type": "scatterpolargl"
                      }
                    ],
                    "scatterternary": [
                      {
                        "marker": {
                          "colorbar": {
                            "outlinewidth": 0,
                            "ticks": ""
                          }
                        },
                        "type": "scatterternary"
                      }
                    ],
                    "surface": [
                      {
                        "colorbar": {
                          "outlinewidth": 0,
                          "ticks": ""
                        },
                        "colorscale": [
                          [
                            0,
                            "#0d0887"
                          ],
                          [
                            0.1111111111111111,
                            "#46039f"
                          ],
                          [
                            0.2222222222222222,
                            "#7201a8"
                          ],
                          [
                            0.3333333333333333,
                            "#9c179e"
                          ],
                          [
                            0.4444444444444444,
                            "#bd3786"
                          ],
                          [
                            0.5555555555555556,
                            "#d8576b"
                          ],
                          [
                            0.6666666666666666,
                            "#ed7953"
                          ],
                          [
                            0.7777777777777778,
                            "#fb9f3a"
                          ],
                          [
                            0.8888888888888888,
                            "#fdca26"
                          ],
                          [
                            1,
                            "#f0f921"
                          ]
                        ],
                        "type": "surface"
                      }
                    ],
                    "table": [
                      {
                        "cells": {
                          "fill": {
                            "color": "#EBF0F8"
                          },
                          "line": {
                            "color": "white"
                          }
                        },
                        "header": {
                          "fill": {
                            "color": "#C8D4E3"
                          },
                          "line": {
                            "color": "white"
                          }
                        },
                        "type": "table"
                      }
                    ]
                  },
                  "layout": {
                    "annotationdefaults": {
                      "arrowcolor": "#2a3f5f",
                      "arrowhead": 0,
                      "arrowwidth": 1
                    },
                    "autotypenumbers": "strict",
                    "coloraxis": {
                      "colorbar": {
                        "outlinewidth": 0,
                        "ticks": ""
                      }
                    },
                    "colorscale": {
                      "diverging": [
                        [
                          0,
                          "#8e0152"
                        ],
                        [
                          0.1,
                          "#c51b7d"
                        ],
                        [
                          0.2,
                          "#de77ae"
                        ],
                        [
                          0.3,
                          "#f1b6da"
                        ],
                        [
                          0.4,
                          "#fde0ef"
                        ],
                        [
                          0.5,
                          "#f7f7f7"
                        ],
                        [
                          0.6,
                          "#e6f5d0"
                        ],
                        [
                          0.7,
                          "#b8e186"
                        ],
                        [
                          0.8,
                          "#7fbc41"
                        ],
                        [
                          0.9,
                          "#4d9221"
                        ],
                        [
                          1,
                          "#276419"
                        ]
                      ],
                      "sequential": [
                        [
                          0,
                          "#0d0887"
                        ],
                        [
                          0.1111111111111111,
                          "#46039f"
                        ],
                        [
                          0.2222222222222222,
                          "#7201a8"
                        ],
                        [
                          0.3333333333333333,
                          "#9c179e"
                        ],
                        [
                          0.4444444444444444,
                          "#bd3786"
                        ],
                        [
                          0.5555555555555556,
                          "#d8576b"
                        ],
                        [
                          0.6666666666666666,
                          "#ed7953"
                        ],
                        [
                          0.7777777777777778,
                          "#fb9f3a"
                        ],
                        [
                          0.8888888888888888,
                          "#fdca26"
                        ],
                        [
                          1,
                          "#f0f921"
                        ]
                      ],
                      "sequentialminus": [
                        [
                          0,
                          "#0d0887"
                        ],
                        [
                          0.1111111111111111,
                          "#46039f"
                        ],
                        [
                          0.2222222222222222,
                          "#7201a8"
                        ],
                        [
                          0.3333333333333333,
                          "#9c179e"
                        ],
                        [
                          0.4444444444444444,
                          "#bd3786"
                        ],
                        [
                          0.5555555555555556,
                          "#d8576b"
                        ],
                        [
                          0.6666666666666666,
                          "#ed7953"
                        ],
                        [
                          0.7777777777777778,
                          "#fb9f3a"
                        ],
                        [
                          0.8888888888888888,
                          "#fdca26"
                        ],
                        [
                          1,
                          "#f0f921"
                        ]
                      ]
                    },
                    "colorway": [
                      "#636efa",
                      "#EF553B",
                      "#00cc96",
                      "#ab63fa",
                      "#FFA15A",
                      "#19d3f3",
                      "#FF6692",
                      "#B6E880",
                      "#FF97FF",
                      "#FECB52"
                    ],
                    "font": {
                      "color": "#2a3f5f"
                    },
                    "geo": {
                      "bgcolor": "white",
                      "lakecolor": "white",
                      "landcolor": "#E5ECF6",
                      "showlakes": true,
                      "showland": true,
                      "subunitcolor": "white"
                    },
                    "hoverlabel": {
                      "align": "left"
                    },
                    "hovermode": "closest",
                    "mapbox": {
                      "style": "light"
                    },
                    "paper_bgcolor": "white",
                    "plot_bgcolor": "#E5ECF6",
                    "polar": {
                      "angularaxis": {
                        "gridcolor": "white",
                        "linecolor": "white",
                        "ticks": ""
                      },
                      "bgcolor": "#E5ECF6",
                      "radialaxis": {
                        "gridcolor": "white",
                        "linecolor": "white",
                        "ticks": ""
                      }
                    },
                    "scene": {
                      "xaxis": {
                        "backgroundcolor": "#E5ECF6",
                        "gridcolor": "white",
                        "gridwidth": 2,
                        "linecolor": "white",
                        "showbackground": true,
                        "ticks": "",
                        "zerolinecolor": "white"
                      },
                      "yaxis": {
                        "backgroundcolor": "#E5ECF6",
                        "gridcolor": "white",
                        "gridwidth": 2,
                        "linecolor": "white",
                        "showbackground": true,
                        "ticks": "",
                        "zerolinecolor": "white"
                      },
                      "zaxis": {
                        "backgroundcolor": "#E5ECF6",
                        "gridcolor": "white",
                        "gridwidth": 2,
                        "linecolor": "white",
                        "showbackground": true,
                        "ticks": "",
                        "zerolinecolor": "white"
                      }
                    },
                    "shapedefaults": {
                      "line": {
                        "color": "#2a3f5f"
                      }
                    },
                    "ternary": {
                      "aaxis": {
                        "gridcolor": "white",
                        "linecolor": "white",
                        "ticks": ""
                      },
                      "baxis": {
                        "gridcolor": "white",
                        "linecolor": "white",
                        "ticks": ""
                      },
                      "bgcolor": "#E5ECF6",
                      "caxis": {
                        "gridcolor": "white",
                        "linecolor": "white",
                        "ticks": ""
                      }
                    },
                    "title": {
                      "x": 0.05
                    },
                    "xaxis": {
                      "automargin": true,
                      "gridcolor": "white",
                      "linecolor": "white",
                      "ticks": "",
                      "title": {
                        "standoff": 15
                      },
                      "zerolinecolor": "white",
                      "zerolinewidth": 2
                    },
                    "yaxis": {
                      "automargin": true,
                      "gridcolor": "white",
                      "linecolor": "white",
                      "ticks": "",
                      "title": {
                        "standoff": 15
                      },
                      "zerolinecolor": "white",
                      "zerolinewidth": 2
                    }
                  }
                },
                "title": {
                  "text": "GICS Sector Forecast RMSE",
                  "x": 0.5
                },
                "xaxis": {
                  "anchor": "y",
                  "domain": [
                    0,
                    1
                  ],
                  "title": {
                    "text": "Root Mean Squared Error"
                  },
                  "type": "log"
                },
                "yaxis": {
                  "anchor": "x",
                  "domain": [
                    0,
                    1
                  ],
                  "title": {
                    "text": "Sectors"
                  }
                }
              }
            }
          },
          "metadata": {}
        }
      ],
      "source": [
        "fig = px.bar(df2,barmode='group',orientation='h',log_x=True)\n",
        "fig.update_layout(\n",
        "    title='GICS Sector Forecast RMSE',\n",
        "    title_x=.5,\n",
        "    plot_bgcolor=colors['background'],\n",
        "    paper_bgcolor=colors['background'],\n",
        "    font_color=colors['text'],\n",
        "    font_family='Courier New',\n",
        "    bargap=.3\n",
        ")\n",
        "fig.update_xaxes(title={'text':'Root Mean Squared Error'})\n",
        "fig.update_yaxes(title={'text':'Sectors'})\n",
        "fig.update_traces(marker = dict(\n",
        "    line = dict(\n",
        "        color=colors['background'],\n",
        "        width=1\n",
        "    )\n",
        "))"
      ]
    }
  ]
}