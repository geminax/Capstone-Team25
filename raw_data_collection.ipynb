{
 "metadata": {
  "language_info": {
   "codemirror_mode": {
    "name": "ipython",
    "version": 3
   },
   "file_extension": ".py",
   "mimetype": "text/x-python",
   "name": "python",
   "nbconvert_exporter": "python",
   "pygments_lexer": "ipython3",
   "version": "3.8.0-final"
  },
  "orig_nbformat": 2,
  "kernelspec": {
   "name": "python380jvsc74a57bd031e2364e1d696cab27f1c84da8c006b44abd7e4dbb1e594e2e73ff31da1a2a3d",
   "display_name": "Python 3.8.0 64-bit"
  },
  "metadata": {
   "interpreter": {
    "hash": "31e2364e1d696cab27f1c84da8c006b44abd7e4dbb1e594e2e73ff31da1a2a3d"
   }
  }
 },
 "nbformat": 4,
 "nbformat_minor": 2,
 "cells": [
  {
   "cell_type": "code",
   "execution_count": 1,
   "metadata": {},
   "outputs": [],
   "source": [
    "import yfinance as yf\n",
    "import pandas as pd\n",
    "import requests\n",
    "import bs4\n",
    "import re\n",
    "import numpy as np\n",
    "import datetime as dt\n",
    "import os\n",
    "from collections import Counter"
   ]
  },
  {
   "cell_type": "code",
   "execution_count": 5,
   "metadata": {},
   "outputs": [],
   "source": [
    "datascrape_range = '1y'\n",
    "datascrape_frequency = '1h' #can be changed to as low as every minute\n",
    "today = dt.date.today()\n",
    "#function for metadata scrape\n",
    "def sp500_metascrape():\n",
    "\t  #scrape S&P 500 HTML\n",
    "    resp = requests.get('http://en.wikipedia.org/wiki/List_of_S%26P_500_companies')\n",
    "    soup = bs4.BeautifulSoup(resp.text, 'lxml')\n",
    "    #isolate relevant table\n",
    "    table = soup.find('table', {'class': 'wikitable sortable'})\n",
    "    #initialize DataFrame\n",
    "    sp = pd.DataFrame(columns=['Ticker','GICS Sector','GICS Sub-Industry'])\n",
    "    #iterate over table and add to DataFrame\n",
    "    for row in table.findAll('tr')[1:]:\n",
    "    \t#isolate strings and replace tickers including . with - to match yfinance notation\n",
    "        ticker = row.findAll('td')[0].text.replace('.', '-')[:-1]\n",
    "        sector = row.findAll('td')[3].text.replace('\\n','')\n",
    "        subind = row.findAll('td')[4].text\n",
    "        #append to DataFrame\n",
    "        sp = sp.append({'Ticker':ticker,'GICS Sector':sector,'GICS Sub-Industry':subind},ignore_index=True)\n",
    "    return sp\n",
    "\n",
    "#function for historical market data scrape (10 years)\n",
    "def sp500_datascrape(symbols):\n",
    "  #prepare tickers in spaced string\n",
    "  symbols = symbols.to_string(index=False).replace('\\n',' ').strip()\n",
    "  symbols = re.sub(' +',' ',symbols)\n",
    "  #download data\n",
    "  data = yf.download(\n",
    "    tickers = symbols,\n",
    "    start = '2019-06-07',\n",
    "    end = '2020-04-12',\n",
    "    #period = datascrape_range,\n",
    "    interval = datascrape_frequency,\n",
    "    group_by = 'ticker',\n",
    "    auto_adjust = True,\n",
    "    threads = True,\n",
    "    prepost=False\n",
    "    )\n",
    "  return data"
   ]
  },
  {
   "cell_type": "code",
   "execution_count": 3,
   "metadata": {},
   "outputs": [
    {
     "output_type": "stream",
     "name": "stdout",
     "text": [
      "[*********************100%***********************]  505 of 505 completed\n"
     ]
    }
   ],
   "source": [
    "meta = sp500_metascrape()\n",
    "data = sp500_datascrape(meta['Ticker'])"
   ]
  },
  {
   "cell_type": "code",
   "execution_count": 6,
   "metadata": {},
   "outputs": [
    {
     "output_type": "stream",
     "name": "stdout",
     "text": [
      "[*********************100%***********************]  505 of 505 completed\n",
      "\n",
      "2 Failed downloads:\n",
      "- VTRS: No data found for this date range, symbol may be delisted\n",
      "- LUMN: No data found for this date range, symbol may be delisted\n"
     ]
    }
   ],
   "source": [
    "data2 = sp500_datascrape(meta['Ticker'])"
   ]
  },
  {
   "cell_type": "code",
   "execution_count": 7,
   "metadata": {},
   "outputs": [
    {
     "output_type": "execute_result",
     "data": {
      "text/plain": [
       "                          OTIS                              ALXN              \\\n",
       "                          Open High Low Close Volume        Open        High   \n",
       "2019-06-07 09:30:00-04:00  NaN  NaN NaN   NaN    NaN  119.410004  119.699997   \n",
       "2019-06-07 10:30:00-04:00  NaN  NaN NaN   NaN    NaN  117.930000  118.809998   \n",
       "2019-06-07 11:30:00-04:00  NaN  NaN NaN   NaN    NaN  118.110001  118.580002   \n",
       "2019-06-07 12:30:00-04:00  NaN  NaN NaN   NaN    NaN  118.620003  118.989998   \n",
       "2019-06-07 13:30:00-04:00  NaN  NaN NaN   NaN    NaN  118.580002  118.699997   \n",
       "\n",
       "                                                             ...         ZBH  \\\n",
       "                                  Low       Close    Volume  ...        Open   \n",
       "2019-06-07 09:30:00-04:00  117.180000  117.849998       0.0  ...  120.910004   \n",
       "2019-06-07 10:30:00-04:00  117.930000  118.000000  196681.0  ...  120.339996   \n",
       "2019-06-07 11:30:00-04:00  117.760002  118.574997  116032.0  ...  120.059998   \n",
       "2019-06-07 12:30:00-04:00  118.440002  118.589996   84039.0  ...  120.010002   \n",
       "2019-06-07 13:30:00-04:00  118.110001  118.139999  139999.0  ...  119.800003   \n",
       "\n",
       "                                                                         \\\n",
       "                                 High         Low       Close    Volume   \n",
       "2019-06-07 09:30:00-04:00  121.110001  120.000000  120.379997       0.0   \n",
       "2019-06-07 10:30:00-04:00  120.800003  120.000000  120.084999  122288.0   \n",
       "2019-06-07 11:30:00-04:00  120.084999  119.459999  119.970001  109767.0   \n",
       "2019-06-07 12:30:00-04:00  120.129997  119.690002  119.800003   60220.0   \n",
       "2019-06-07 13:30:00-04:00  120.494598  119.800003  120.459999   51739.0   \n",
       "\n",
       "                                  ATO                                      \\\n",
       "                                 Open        High         Low       Close   \n",
       "2019-06-07 09:30:00-04:00  104.690002  105.190002  104.690002  104.949997   \n",
       "2019-06-07 10:30:00-04:00  104.985001  105.080002  104.760002  104.779999   \n",
       "2019-06-07 11:30:00-04:00  104.779999  104.849998  104.500000  104.820000   \n",
       "2019-06-07 12:30:00-04:00  104.849998  105.190002  104.849998  105.022697   \n",
       "2019-06-07 13:30:00-04:00  105.000000  105.000000  104.220001  104.320000   \n",
       "\n",
       "                                    \n",
       "                            Volume  \n",
       "2019-06-07 09:30:00-04:00      0.0  \n",
       "2019-06-07 10:30:00-04:00  30839.0  \n",
       "2019-06-07 11:30:00-04:00  29672.0  \n",
       "2019-06-07 12:30:00-04:00  19462.0  \n",
       "2019-06-07 13:30:00-04:00  43613.0  \n",
       "\n",
       "[5 rows x 2527 columns]"
      ],
      "text/html": "<div>\n<style scoped>\n    .dataframe tbody tr th:only-of-type {\n        vertical-align: middle;\n    }\n\n    .dataframe tbody tr th {\n        vertical-align: top;\n    }\n\n    .dataframe thead tr th {\n        text-align: left;\n    }\n</style>\n<table border=\"1\" class=\"dataframe\">\n  <thead>\n    <tr>\n      <th></th>\n      <th colspan=\"5\" halign=\"left\">OTIS</th>\n      <th colspan=\"5\" halign=\"left\">ALXN</th>\n      <th>...</th>\n      <th colspan=\"5\" halign=\"left\">ZBH</th>\n      <th colspan=\"5\" halign=\"left\">ATO</th>\n    </tr>\n    <tr>\n      <th></th>\n      <th>Open</th>\n      <th>High</th>\n      <th>Low</th>\n      <th>Close</th>\n      <th>Volume</th>\n      <th>Open</th>\n      <th>High</th>\n      <th>Low</th>\n      <th>Close</th>\n      <th>Volume</th>\n      <th>...</th>\n      <th>Open</th>\n      <th>High</th>\n      <th>Low</th>\n      <th>Close</th>\n      <th>Volume</th>\n      <th>Open</th>\n      <th>High</th>\n      <th>Low</th>\n      <th>Close</th>\n      <th>Volume</th>\n    </tr>\n  </thead>\n  <tbody>\n    <tr>\n      <th>2019-06-07 09:30:00-04:00</th>\n      <td>NaN</td>\n      <td>NaN</td>\n      <td>NaN</td>\n      <td>NaN</td>\n      <td>NaN</td>\n      <td>119.410004</td>\n      <td>119.699997</td>\n      <td>117.180000</td>\n      <td>117.849998</td>\n      <td>0.0</td>\n      <td>...</td>\n      <td>120.910004</td>\n      <td>121.110001</td>\n      <td>120.000000</td>\n      <td>120.379997</td>\n      <td>0.0</td>\n      <td>104.690002</td>\n      <td>105.190002</td>\n      <td>104.690002</td>\n      <td>104.949997</td>\n      <td>0.0</td>\n    </tr>\n    <tr>\n      <th>2019-06-07 10:30:00-04:00</th>\n      <td>NaN</td>\n      <td>NaN</td>\n      <td>NaN</td>\n      <td>NaN</td>\n      <td>NaN</td>\n      <td>117.930000</td>\n      <td>118.809998</td>\n      <td>117.930000</td>\n      <td>118.000000</td>\n      <td>196681.0</td>\n      <td>...</td>\n      <td>120.339996</td>\n      <td>120.800003</td>\n      <td>120.000000</td>\n      <td>120.084999</td>\n      <td>122288.0</td>\n      <td>104.985001</td>\n      <td>105.080002</td>\n      <td>104.760002</td>\n      <td>104.779999</td>\n      <td>30839.0</td>\n    </tr>\n    <tr>\n      <th>2019-06-07 11:30:00-04:00</th>\n      <td>NaN</td>\n      <td>NaN</td>\n      <td>NaN</td>\n      <td>NaN</td>\n      <td>NaN</td>\n      <td>118.110001</td>\n      <td>118.580002</td>\n      <td>117.760002</td>\n      <td>118.574997</td>\n      <td>116032.0</td>\n      <td>...</td>\n      <td>120.059998</td>\n      <td>120.084999</td>\n      <td>119.459999</td>\n      <td>119.970001</td>\n      <td>109767.0</td>\n      <td>104.779999</td>\n      <td>104.849998</td>\n      <td>104.500000</td>\n      <td>104.820000</td>\n      <td>29672.0</td>\n    </tr>\n    <tr>\n      <th>2019-06-07 12:30:00-04:00</th>\n      <td>NaN</td>\n      <td>NaN</td>\n      <td>NaN</td>\n      <td>NaN</td>\n      <td>NaN</td>\n      <td>118.620003</td>\n      <td>118.989998</td>\n      <td>118.440002</td>\n      <td>118.589996</td>\n      <td>84039.0</td>\n      <td>...</td>\n      <td>120.010002</td>\n      <td>120.129997</td>\n      <td>119.690002</td>\n      <td>119.800003</td>\n      <td>60220.0</td>\n      <td>104.849998</td>\n      <td>105.190002</td>\n      <td>104.849998</td>\n      <td>105.022697</td>\n      <td>19462.0</td>\n    </tr>\n    <tr>\n      <th>2019-06-07 13:30:00-04:00</th>\n      <td>NaN</td>\n      <td>NaN</td>\n      <td>NaN</td>\n      <td>NaN</td>\n      <td>NaN</td>\n      <td>118.580002</td>\n      <td>118.699997</td>\n      <td>118.110001</td>\n      <td>118.139999</td>\n      <td>139999.0</td>\n      <td>...</td>\n      <td>119.800003</td>\n      <td>120.494598</td>\n      <td>119.800003</td>\n      <td>120.459999</td>\n      <td>51739.0</td>\n      <td>105.000000</td>\n      <td>105.000000</td>\n      <td>104.220001</td>\n      <td>104.320000</td>\n      <td>43613.0</td>\n    </tr>\n  </tbody>\n</table>\n<p>5 rows × 2527 columns</p>\n</div>"
     },
     "metadata": {},
     "execution_count": 7
    }
   ],
   "source": [
    "data2.head()"
   ]
  },
  {
   "cell_type": "code",
   "execution_count": 8,
   "metadata": {},
   "outputs": [
    {
     "output_type": "execute_result",
     "data": {
      "text/plain": [
       "                                OTIS                                   \\\n",
       "                                Open       High        Low      Close   \n",
       "2020-04-09 11:30:00-04:00  45.689999  47.419998  45.419998  46.799999   \n",
       "2020-04-09 12:30:00-04:00  46.830002  47.480000  46.540100  47.195000   \n",
       "2020-04-09 13:30:00-04:00  47.195000  47.720001  46.599998  47.268902   \n",
       "2020-04-09 14:30:00-04:00  47.259998  48.230000  46.700001  47.970001   \n",
       "2020-04-09 15:30:00-04:00  47.990002  50.250000  47.799999  49.610001   \n",
       "\n",
       "                                           ALXN                        \\\n",
       "                              Volume       Open       High        Low   \n",
       "2020-04-09 11:30:00-04:00  2498734.0  95.989998  96.720001  95.830002   \n",
       "2020-04-09 12:30:00-04:00  1751533.0  95.989998  96.220001  95.400497   \n",
       "2020-04-09 13:30:00-04:00  1393009.0  96.110001  96.440002  94.230003   \n",
       "2020-04-09 14:30:00-04:00  2926851.0  94.370003  95.930000  94.370003   \n",
       "2020-04-09 15:30:00-04:00  2482745.0  95.889999  96.269997  95.019997   \n",
       "\n",
       "                                                ...         ZBH              \\\n",
       "                               Close    Volume  ...        Open        High   \n",
       "2020-04-09 11:30:00-04:00  95.989998  361307.0  ...  110.610001  112.238998   \n",
       "2020-04-09 12:30:00-04:00  96.110001  242844.0  ...  111.800003  112.989998   \n",
       "2020-04-09 13:30:00-04:00  94.360001  432677.0  ...  112.970001  113.300003   \n",
       "2020-04-09 14:30:00-04:00  95.867996  372271.0  ...  111.199997  112.050003   \n",
       "2020-04-09 15:30:00-04:00  96.230003  471499.0  ...  110.745003  111.330002   \n",
       "\n",
       "                                                                    ATO  \\\n",
       "                                  Low       Close    Volume        Open   \n",
       "2020-04-09 11:30:00-04:00  109.800003  111.769997  217106.0  106.900002   \n",
       "2020-04-09 12:30:00-04:00  111.739998  112.900002  161864.0  107.480003   \n",
       "2020-04-09 13:30:00-04:00  111.129997  111.415001  170387.0  106.629997   \n",
       "2020-04-09 14:30:00-04:00  109.529999  110.650002  374023.0  105.660004   \n",
       "2020-04-09 15:30:00-04:00  110.160004  110.500000  272856.0  105.845001   \n",
       "\n",
       "                                                                         \n",
       "                                 High         Low       Close    Volume  \n",
       "2020-04-09 11:30:00-04:00  107.800003  106.260002  107.419998  100511.0  \n",
       "2020-04-09 12:30:00-04:00  107.889999  106.430000  106.650002   96552.0  \n",
       "2020-04-09 13:30:00-04:00  106.910004  105.620003  105.669998  119738.0  \n",
       "2020-04-09 14:30:00-04:00  105.910004  103.690002  105.620003  226909.0  \n",
       "2020-04-09 15:30:00-04:00  106.180000  104.910004  105.190002  317458.0  \n",
       "\n",
       "[5 rows x 2527 columns]"
      ],
      "text/html": "<div>\n<style scoped>\n    .dataframe tbody tr th:only-of-type {\n        vertical-align: middle;\n    }\n\n    .dataframe tbody tr th {\n        vertical-align: top;\n    }\n\n    .dataframe thead tr th {\n        text-align: left;\n    }\n</style>\n<table border=\"1\" class=\"dataframe\">\n  <thead>\n    <tr>\n      <th></th>\n      <th colspan=\"5\" halign=\"left\">OTIS</th>\n      <th colspan=\"5\" halign=\"left\">ALXN</th>\n      <th>...</th>\n      <th colspan=\"5\" halign=\"left\">ZBH</th>\n      <th colspan=\"5\" halign=\"left\">ATO</th>\n    </tr>\n    <tr>\n      <th></th>\n      <th>Open</th>\n      <th>High</th>\n      <th>Low</th>\n      <th>Close</th>\n      <th>Volume</th>\n      <th>Open</th>\n      <th>High</th>\n      <th>Low</th>\n      <th>Close</th>\n      <th>Volume</th>\n      <th>...</th>\n      <th>Open</th>\n      <th>High</th>\n      <th>Low</th>\n      <th>Close</th>\n      <th>Volume</th>\n      <th>Open</th>\n      <th>High</th>\n      <th>Low</th>\n      <th>Close</th>\n      <th>Volume</th>\n    </tr>\n  </thead>\n  <tbody>\n    <tr>\n      <th>2020-04-09 11:30:00-04:00</th>\n      <td>45.689999</td>\n      <td>47.419998</td>\n      <td>45.419998</td>\n      <td>46.799999</td>\n      <td>2498734.0</td>\n      <td>95.989998</td>\n      <td>96.720001</td>\n      <td>95.830002</td>\n      <td>95.989998</td>\n      <td>361307.0</td>\n      <td>...</td>\n      <td>110.610001</td>\n      <td>112.238998</td>\n      <td>109.800003</td>\n      <td>111.769997</td>\n      <td>217106.0</td>\n      <td>106.900002</td>\n      <td>107.800003</td>\n      <td>106.260002</td>\n      <td>107.419998</td>\n      <td>100511.0</td>\n    </tr>\n    <tr>\n      <th>2020-04-09 12:30:00-04:00</th>\n      <td>46.830002</td>\n      <td>47.480000</td>\n      <td>46.540100</td>\n      <td>47.195000</td>\n      <td>1751533.0</td>\n      <td>95.989998</td>\n      <td>96.220001</td>\n      <td>95.400497</td>\n      <td>96.110001</td>\n      <td>242844.0</td>\n      <td>...</td>\n      <td>111.800003</td>\n      <td>112.989998</td>\n      <td>111.739998</td>\n      <td>112.900002</td>\n      <td>161864.0</td>\n      <td>107.480003</td>\n      <td>107.889999</td>\n      <td>106.430000</td>\n      <td>106.650002</td>\n      <td>96552.0</td>\n    </tr>\n    <tr>\n      <th>2020-04-09 13:30:00-04:00</th>\n      <td>47.195000</td>\n      <td>47.720001</td>\n      <td>46.599998</td>\n      <td>47.268902</td>\n      <td>1393009.0</td>\n      <td>96.110001</td>\n      <td>96.440002</td>\n      <td>94.230003</td>\n      <td>94.360001</td>\n      <td>432677.0</td>\n      <td>...</td>\n      <td>112.970001</td>\n      <td>113.300003</td>\n      <td>111.129997</td>\n      <td>111.415001</td>\n      <td>170387.0</td>\n      <td>106.629997</td>\n      <td>106.910004</td>\n      <td>105.620003</td>\n      <td>105.669998</td>\n      <td>119738.0</td>\n    </tr>\n    <tr>\n      <th>2020-04-09 14:30:00-04:00</th>\n      <td>47.259998</td>\n      <td>48.230000</td>\n      <td>46.700001</td>\n      <td>47.970001</td>\n      <td>2926851.0</td>\n      <td>94.370003</td>\n      <td>95.930000</td>\n      <td>94.370003</td>\n      <td>95.867996</td>\n      <td>372271.0</td>\n      <td>...</td>\n      <td>111.199997</td>\n      <td>112.050003</td>\n      <td>109.529999</td>\n      <td>110.650002</td>\n      <td>374023.0</td>\n      <td>105.660004</td>\n      <td>105.910004</td>\n      <td>103.690002</td>\n      <td>105.620003</td>\n      <td>226909.0</td>\n    </tr>\n    <tr>\n      <th>2020-04-09 15:30:00-04:00</th>\n      <td>47.990002</td>\n      <td>50.250000</td>\n      <td>47.799999</td>\n      <td>49.610001</td>\n      <td>2482745.0</td>\n      <td>95.889999</td>\n      <td>96.269997</td>\n      <td>95.019997</td>\n      <td>96.230003</td>\n      <td>471499.0</td>\n      <td>...</td>\n      <td>110.745003</td>\n      <td>111.330002</td>\n      <td>110.160004</td>\n      <td>110.500000</td>\n      <td>272856.0</td>\n      <td>105.845001</td>\n      <td>106.180000</td>\n      <td>104.910004</td>\n      <td>105.190002</td>\n      <td>317458.0</td>\n    </tr>\n  </tbody>\n</table>\n<p>5 rows × 2527 columns</p>\n</div>"
     },
     "metadata": {},
     "execution_count": 8
    }
   ],
   "source": [
    "data2.tail()"
   ]
  },
  {
   "cell_type": "code",
   "execution_count": 9,
   "metadata": {},
   "outputs": [],
   "source": [
    "pd.to_pickle(data,'./storage/rawdata/data.pickle' )\n",
    "pd.to_pickle(meta,'./storage/rawdata/meta.pickle')\n",
    "pd.to_pickle(data2,'./storage/rawdata/data2.pickle')"
   ]
  },
  {
   "cell_type": "code",
   "execution_count": null,
   "metadata": {},
   "outputs": [],
   "source": []
  }
 ]
}